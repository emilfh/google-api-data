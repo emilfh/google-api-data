{
 "cells": [
  {
   "cell_type": "markdown",
   "id": "805f7a6c-4dfb-4b06-9b3d-cd033b1a2bec",
   "metadata": {},
   "source": [
    "# HEADER"
   ]
  },
  {
   "cell_type": "markdown",
   "id": "51190385-6c6a-4f27-b7df-f3ecd7318afd",
   "metadata": {},
   "source": [
    "Import packages"
   ]
  },
  {
   "cell_type": "code",
   "execution_count": 1489,
   "id": "46801de6-402d-4d30-83e5-aa92d9dd2db8",
   "metadata": {},
   "outputs": [
    {
     "name": "stdout",
     "output_type": "stream",
     "text": [
      "CPU times: user 1.05 ms, sys: 3.66 ms, total: 4.71 ms\n",
      "Wall time: 3.11 ms\n"
     ]
    }
   ],
   "source": [
    "%%time\n",
    "\n",
    "import pandas as pd\n",
    "import numpy as np\n",
    "import gapandas4 as gp\n",
    "\n",
    "import os\n",
    "import datetime\n",
    "\n",
    "#from pandas import json_normalize\n",
    "#import json\n",
    "\n",
    "# Written functions\n",
    "import dates_funcs\n",
    "\n",
    "import importlib\n",
    "importlib.reload(dates_funcs)\n",
    "\n",
    "# to write to excel-file\n",
    "import openpyxl\n"
   ]
  },
  {
   "cell_type": "code",
   "execution_count": 1490,
   "id": "a8d82522-d5c3-4e3f-bbd9-8d73dfca6ca3",
   "metadata": {},
   "outputs": [
    {
     "name": "stdout",
     "output_type": "stream",
     "text": [
      "CPU times: user 108 µs, sys: 127 µs, total: 235 µs\n",
      "Wall time: 172 µs\n"
     ]
    },
    {
     "data": {
      "text/plain": [
       "'/Users/emil/miniforge3/envs/googleapi/Notebooks/Analytics'"
      ]
     },
     "execution_count": 1490,
     "metadata": {},
     "output_type": "execute_result"
    }
   ],
   "source": [
    "%%time\n",
    "\n",
    "os.getcwd()"
   ]
  },
  {
   "cell_type": "code",
   "execution_count": 1491,
   "id": "c0ce5d5a-4c90-4f14-aeeb-69569320f2d8",
   "metadata": {},
   "outputs": [
    {
     "name": "stdout",
     "output_type": "stream",
     "text": [
      "CPU times: user 12 µs, sys: 31 µs, total: 43 µs\n",
      "Wall time: 38.9 µs\n"
     ]
    }
   ],
   "source": [
    "%%time\n",
    "\n",
    "from IPython.display import display, HTML\n",
    "\n",
    "# Function to fully display dataframe\n",
    "def force_show_all(df):\n",
    "    with pd.option_context('display.max_rows', None, 'display.max_columns', None, 'display.width', None):\n",
    "        display(HTML(df.to_html()))\n",
    "# ... now when you're ready to fully display df:\n",
    "#force_show_all(df)"
   ]
  },
  {
   "cell_type": "markdown",
   "id": "d3a6f5af-d6f3-4222-a3ba-85e782a3d6fe",
   "metadata": {},
   "source": [
    "Properties for connections"
   ]
  },
  {
   "cell_type": "code",
   "execution_count": 1492,
   "id": "42133e6c-a3d1-4be6-9315-59c7ef28e3b8",
   "metadata": {},
   "outputs": [
    {
     "name": "stdout",
     "output_type": "stream",
     "text": [
      "CPU times: user 1e+03 ns, sys: 1e+03 ns, total: 2 µs\n",
      "Wall time: 4.29 µs\n"
     ]
    }
   ],
   "source": [
    "%%time\n",
    "\n",
    "property_id = \"298727788\"\n",
    "credentials_json_path=\"/Users/emil/miniforge3/envs/googleapi/Notebooks/Analytics/client_secrets.json\"\n",
    "\n",
    "service_account = credentials_json_path"
   ]
  },
  {
   "cell_type": "markdown",
   "id": "55b4bfb4-7a4f-46fb-93a3-55e94cd53ac3",
   "metadata": {},
   "source": [
    "Get metadata"
   ]
  },
  {
   "cell_type": "code",
   "execution_count": 1493,
   "id": "13efe1c9-5752-40ed-9b80-984ed446b724",
   "metadata": {},
   "outputs": [
    {
     "name": "stdout",
     "output_type": "stream",
     "text": [
      "CPU times: user 62.9 ms, sys: 17.8 ms, total: 80.7 ms\n",
      "Wall time: 472 ms\n"
     ]
    }
   ],
   "source": [
    "%%time\n",
    "\n",
    "metadata = gp.get_metadata(service_account, property_id)\n",
    "dfMetadata = pd.DataFrame(metadata)"
   ]
  },
  {
   "cell_type": "code",
   "execution_count": 1494,
   "id": "fc7a9762-67ef-47b1-89ec-1e9d1d06e043",
   "metadata": {},
   "outputs": [
    {
     "name": "stdout",
     "output_type": "stream",
     "text": [
      "CPU times: user 63 µs, sys: 33 µs, total: 96 µs\n",
      "Wall time: 94.9 µs\n"
     ]
    },
    {
     "data": {
      "text/html": [
       "<div>\n",
       "<style scoped>\n",
       "    .dataframe tbody tr th:only-of-type {\n",
       "        vertical-align: middle;\n",
       "    }\n",
       "\n",
       "    .dataframe tbody tr th {\n",
       "        vertical-align: top;\n",
       "    }\n",
       "\n",
       "    .dataframe thead th {\n",
       "        text-align: right;\n",
       "    }\n",
       "</style>\n",
       "<table border=\"1\" class=\"dataframe\">\n",
       "  <thead>\n",
       "    <tr style=\"text-align: right;\">\n",
       "      <th></th>\n",
       "      <th>Type</th>\n",
       "      <th>Data type</th>\n",
       "      <th>API Name</th>\n",
       "      <th>UI Name</th>\n",
       "      <th>Description</th>\n",
       "      <th>Custom definition</th>\n",
       "    </tr>\n",
       "  </thead>\n",
       "  <tbody>\n",
       "    <tr>\n",
       "      <th>0</th>\n",
       "      <td>Dimension</td>\n",
       "      <td>STRING</td>\n",
       "      <td>achievementId</td>\n",
       "      <td>Achievement ID</td>\n",
       "      <td>The achievement ID in a game for an event. Pop...</td>\n",
       "      <td>False</td>\n",
       "    </tr>\n",
       "    <tr>\n",
       "      <th>1</th>\n",
       "      <td>Dimension</td>\n",
       "      <td>STRING</td>\n",
       "      <td>adFormat</td>\n",
       "      <td>Ad format</td>\n",
       "      <td>Describes the way ads looked and where they we...</td>\n",
       "      <td>False</td>\n",
       "    </tr>\n",
       "    <tr>\n",
       "      <th>2</th>\n",
       "      <td>Dimension</td>\n",
       "      <td>STRING</td>\n",
       "      <td>adSourceName</td>\n",
       "      <td>Ad source</td>\n",
       "      <td>The source network that served the ad. Typical...</td>\n",
       "      <td>False</td>\n",
       "    </tr>\n",
       "    <tr>\n",
       "      <th>3</th>\n",
       "      <td>Dimension</td>\n",
       "      <td>STRING</td>\n",
       "      <td>adUnitName</td>\n",
       "      <td>Ad unit</td>\n",
       "      <td>The name you chose to describe this Ad unit. A...</td>\n",
       "      <td>False</td>\n",
       "    </tr>\n",
       "    <tr>\n",
       "      <th>4</th>\n",
       "      <td>Dimension</td>\n",
       "      <td>STRING</td>\n",
       "      <td>appVersion</td>\n",
       "      <td>App version</td>\n",
       "      <td>The app's versionName (Android) or short bundl...</td>\n",
       "      <td>False</td>\n",
       "    </tr>\n",
       "  </tbody>\n",
       "</table>\n",
       "</div>"
      ],
      "text/plain": [
       "        Type Data type       API Name         UI Name  \\\n",
       "0  Dimension    STRING  achievementId  Achievement ID   \n",
       "1  Dimension    STRING       adFormat       Ad format   \n",
       "2  Dimension    STRING   adSourceName       Ad source   \n",
       "3  Dimension    STRING     adUnitName         Ad unit   \n",
       "4  Dimension    STRING     appVersion     App version   \n",
       "\n",
       "                                         Description  Custom definition  \n",
       "0  The achievement ID in a game for an event. Pop...              False  \n",
       "1  Describes the way ads looked and where they we...              False  \n",
       "2  The source network that served the ad. Typical...              False  \n",
       "3  The name you chose to describe this Ad unit. A...              False  \n",
       "4  The app's versionName (Android) or short bundl...              False  "
      ]
     },
     "execution_count": 1494,
     "metadata": {},
     "output_type": "execute_result"
    }
   ],
   "source": [
    "%%time\n",
    "\n",
    "dfMetadata.head()"
   ]
  },
  {
   "cell_type": "markdown",
   "id": "07ceeaa9-2af5-441a-8d82-d371cc9cc3ba",
   "metadata": {},
   "source": [
    "Find saved maxdate"
   ]
  },
  {
   "cell_type": "code",
   "execution_count": 1495,
   "id": "c89d77cc-5a97-4d95-8a23-23ec02d2f12f",
   "metadata": {},
   "outputs": [
    {
     "name": "stdout",
     "output_type": "stream",
     "text": [
      "<class 'str'>\n",
      "<class 'datetime.date'>\n",
      "2023-01-14\n",
      "CPU times: user 527 µs, sys: 1.04 ms, total: 1.57 ms\n",
      "Wall time: 917 µs\n"
     ]
    }
   ],
   "source": [
    "%%time\n",
    "\n",
    "f = open(\"latestDate.txt\")\n",
    "maxSavedDate = f.read()\n",
    "f.close()\n",
    "\n",
    "print(type(maxSavedDate))\n",
    "\n",
    "maxSavedDate = datetime.datetime.strptime(maxSavedDate,'%Y-%m-%d').date()\n",
    "\n",
    "print(type(maxSavedDate))\n",
    "print(maxSavedDate)"
   ]
  },
  {
   "cell_type": "markdown",
   "id": "a162fbed-d3fb-42ba-a849-1829ead47b65",
   "metadata": {},
   "source": [
    "Batch-queries"
   ]
  },
  {
   "cell_type": "markdown",
   "id": "26666231-3a73-492b-a008-85cedf529969",
   "metadata": {},
   "source": [
    "Dates to fetch data"
   ]
  },
  {
   "cell_type": "code",
   "execution_count": 1496,
   "id": "4ba2a99d-f197-4fd7-b239-f2cb2aa498c5",
   "metadata": {},
   "outputs": [
    {
     "name": "stdout",
     "output_type": "stream",
     "text": [
      "CPU times: user 2 µs, sys: 13 µs, total: 15 µs\n",
      "Wall time: 16.2 µs\n"
     ]
    }
   ],
   "source": [
    "%%time\n",
    "\n",
    "start_date = \"2022-01-01\"\n",
    "end_date = \"2022-01-31\""
   ]
  },
  {
   "cell_type": "markdown",
   "id": "e5412572-480a-4455-9c56-f052d6f83775",
   "metadata": {},
   "source": [
    "## Lists"
   ]
  },
  {
   "cell_type": "code",
   "execution_count": 1497,
   "id": "0ed81ed9-2656-4da4-9ec1-6544db71a456",
   "metadata": {},
   "outputs": [
    {
     "name": "stdout",
     "output_type": "stream",
     "text": [
      "CPU times: user 6 µs, sys: 24 µs, total: 30 µs\n",
      "Wall time: 31.9 µs\n"
     ]
    }
   ],
   "source": [
    "%%time\n",
    "\n",
    "# Dimensions\n",
    "dimensions = [\"language\",\"languageCode\",\"browser\",\"deviceCategory\",\"mobileDeviceBranding\",\n",
    "              \"mobileDeviceMarketingName\",\"mobileDeviceModel\",\"operatingSystemWithVersion\",\n",
    "              \"platform\",\"screenResolution\",\"firstUserDefaultChannelGroup\",\"firstUserSource\",\n",
    "              \"sessionDefaultChannelGroup\",\"sessionSource\",\"eventName\",\"pagePath\",\"linkUrl\",\n",
    "              \"landingPage\",\"pageReferrer\"]\n",
    "\n",
    "# Does not work with cityId, only countryId\n",
    "# does not work with dateHour only date.\n",
    "dimensionsSpecial = [\"userGender\",\"brandingInterest\"]\n",
    "\n",
    "# Does not work with cityId, only countryId,\n",
    "# does not work with dateHour only date:\n",
    "# also cant request cityId and date in same request.\n",
    "dimensionsSpecialSpecial = [\"userAgeBracket\"]\n",
    "\n",
    "dateHourList = [\"dateHour\"]\n",
    "dateList = [\"date\"]\n",
    "cityIdList = [\"cityId\"]\n",
    "countryIdList = [\"countryId\"]\n",
    "\n",
    "# Metrics with empty first place and repeat last to count 1-18\n",
    "metricList = [\"\",\"totalUsers\",\"newUsers\",\"activeUsers\",\"userEngagementDuration\",\"scrolledUsers\",\n",
    "              \"averageSessionDuration\",\"bounceRate\",\"engagedSessions\",\"engagementRate\",\"sessions\",\n",
    "              \"sessionsPerUser\",\"eventCount\",\"eventCountPerUser\",\"eventsPerSession\",\"screenPageViews\",\n",
    "              \"screenPageViewsPerSession\",\"screenPageViewsPerUser\",\"totalUsers\"]\n",
    "    \n",
    "loyaltyList = [\"wauPerMau\",\"dauPerMau\",\"dauPerWau\"]\n",
    "    \n",
    "activityList = [\"active28DayUsers\",\"active7DayUsers\",\"activeUsers\"]\n"
   ]
  },
  {
   "cell_type": "markdown",
   "id": "eb0e62ae-f9aa-4a88-9343-a067f3f2112e",
   "metadata": {
    "tags": []
   },
   "source": [
    "## Requests"
   ]
  },
  {
   "cell_type": "markdown",
   "id": "b42f54ee-7253-45b4-95ad-c32644f36055",
   "metadata": {
    "tags": []
   },
   "source": [
    "### dimensions"
   ]
  },
  {
   "cell_type": "markdown",
   "id": "b72e1050-b827-4600-870b-6fb640500529",
   "metadata": {},
   "source": [
    "#### metricList"
   ]
  },
  {
   "cell_type": "code",
   "execution_count": 1498,
   "id": "637e821d-ad81-453b-bce1-6ded49296f74",
   "metadata": {},
   "outputs": [
    {
     "name": "stdout",
     "output_type": "stream",
     "text": [
      "CPU times: user 5.93 s, sys: 302 ms, total: 6.23 s\n",
      "Wall time: 43.5 s\n"
     ]
    }
   ],
   "source": [
    "%%time\n",
    "\n",
    "# Empty list to fill with dataframes\n",
    "dfs = [[],[],[],]\n",
    "\n",
    "# Request for all dimensions in list\n",
    "for x in range(len(dimensions)):\n",
    "    for y, z in zip([1,7,13],[0,1,2]): \n",
    "\n",
    "        report_request = gp.RunReportRequest(\n",
    "            property=f\"properties/{property_id}\",\n",
    "            dimensions=[\n",
    "                gp.Dimension(name=dateHourList[0]),\n",
    "                gp.Dimension(name=cityIdList[0]),\n",
    "                gp.Dimension(name=dimensions[x])\n",
    "            ],\n",
    "            metrics=[\n",
    "                gp.Metric(name=metricList[y]),\n",
    "                gp.Metric(name=metricList[y+1]),\n",
    "                gp.Metric(name=metricList[y+2]),\n",
    "                gp.Metric(name=metricList[y+3]),\n",
    "                gp.Metric(name=metricList[y+4]),\n",
    "                gp.Metric(name=metricList[y+5]),\n",
    "            ],\n",
    "            date_ranges=[gp.DateRange(start_date=start_date, end_date=end_date)],\n",
    "        )\n",
    "        \n",
    "        # Perform query and append to list\n",
    "        dfs[z].append(gp.query(service_account, report_request, report_type=\"report\"))"
   ]
  },
  {
   "cell_type": "markdown",
   "id": "9be5b4b1-ee78-42f8-8ce6-595034fa814c",
   "metadata": {},
   "source": [
    "#### loyaltyList"
   ]
  },
  {
   "cell_type": "code",
   "execution_count": 1499,
   "id": "9fa4d74c-de16-4081-bbdf-ebcc48e5f6ba",
   "metadata": {},
   "outputs": [
    {
     "name": "stdout",
     "output_type": "stream",
     "text": [
      "CPU times: user 2.17 s, sys: 88.6 ms, total: 2.26 s\n",
      "Wall time: 18.2 s\n"
     ]
    }
   ],
   "source": [
    "%%time\n",
    "\n",
    "# Empty list to fill with dataframes\n",
    "dfs_l = []\n",
    "\n",
    "# Request for all dimensions in list\n",
    "for x in range(len(dimensions)):\n",
    "\n",
    "        report_request = gp.RunReportRequest(\n",
    "            property=f\"properties/{property_id}\",\n",
    "            dimensions=[\n",
    "                gp.Dimension(name=dateList[0]),\n",
    "                gp.Dimension(name=cityIdList[0]),\n",
    "                gp.Dimension(name=dimensions[x])\n",
    "            ],\n",
    "            metrics=[\n",
    "                gp.Metric(name=loyaltyList[0]),\n",
    "                gp.Metric(name=loyaltyList[1]),\n",
    "                gp.Metric(name=loyaltyList[2]),\n",
    "            ],\n",
    "            date_ranges=[gp.DateRange(start_date=start_date, end_date=end_date)],\n",
    "        )\n",
    "        \n",
    "        # Perform query and append to list\n",
    "        dfs_l.append(gp.query(service_account, report_request, report_type=\"report\"))"
   ]
  },
  {
   "cell_type": "markdown",
   "id": "a605b93b-33fa-4289-8aaf-1a09ab15f10e",
   "metadata": {},
   "source": [
    "#### activityList"
   ]
  },
  {
   "cell_type": "code",
   "execution_count": 1500,
   "id": "adca2059-7e7c-49d0-bb0b-7815e002d664",
   "metadata": {},
   "outputs": [
    {
     "name": "stdout",
     "output_type": "stream",
     "text": [
      "CPU times: user 2.95 s, sys: 110 ms, total: 3.06 s\n",
      "Wall time: 19.7 s\n"
     ]
    }
   ],
   "source": [
    "%%time\n",
    "\n",
    "# Empty list to fill with dataframes\n",
    "dfs_a = []\n",
    "\n",
    "# Request for all dimensions in list\n",
    "for x in range(len(dimensions)):\n",
    "\n",
    "        report_request = gp.RunReportRequest(\n",
    "            property=f\"properties/{property_id}\",\n",
    "            dimensions=[\n",
    "                gp.Dimension(name=dateList[0]),\n",
    "                gp.Dimension(name=cityIdList[0]),\n",
    "                gp.Dimension(name=dimensions[x])\n",
    "            ],\n",
    "            metrics=[\n",
    "                gp.Metric(name=activityList[0]),\n",
    "                gp.Metric(name=activityList[1]),\n",
    "                gp.Metric(name=activityList[2]),\n",
    "            ],\n",
    "            date_ranges=[gp.DateRange(start_date=start_date, end_date=end_date)],\n",
    "        )\n",
    "        \n",
    "        # Perform query and append to list\n",
    "        dfs_a.append(gp.query(service_account, report_request, report_type=\"report\"))"
   ]
  },
  {
   "cell_type": "markdown",
   "id": "0a656c62-fd22-4e67-b1af-8884870666e8",
   "metadata": {},
   "source": [
    "### dimensionsSpecial"
   ]
  },
  {
   "cell_type": "code",
   "execution_count": 1501,
   "id": "a044a688-8f7d-4014-8bc9-cca4384cc86c",
   "metadata": {},
   "outputs": [
    {
     "name": "stdout",
     "output_type": "stream",
     "text": [
      "CPU times: user 391 ms, sys: 17.7 ms, total: 409 ms\n",
      "Wall time: 3.56 s\n"
     ]
    }
   ],
   "source": [
    "%%time\n",
    "\n",
    "# Empty list to fill with dataframes\n",
    "dfs_s = [[],[],[],]\n",
    "\n",
    "# Request for all dimensions in list\n",
    "for x in range(len(dimensionsSpecial)):\n",
    "    for y, z in zip([1,7,13],[0,1,2]): \n",
    "\n",
    "        report_request = gp.RunReportRequest(\n",
    "            property=f\"properties/{property_id}\",\n",
    "            dimensions=[\n",
    "                gp.Dimension(name=dateList[0]),\n",
    "                gp.Dimension(name=countryIdList[0]),\n",
    "                gp.Dimension(name=dimensionsSpecial[x])\n",
    "            ],\n",
    "            metrics=[\n",
    "                gp.Metric(name=metricList[y]),\n",
    "                gp.Metric(name=metricList[y+1]),\n",
    "                gp.Metric(name=metricList[y+2]),\n",
    "                gp.Metric(name=metricList[y+3]),\n",
    "                gp.Metric(name=metricList[y+4]),\n",
    "                gp.Metric(name=metricList[y+5]),\n",
    "            ],\n",
    "            date_ranges=[gp.DateRange(start_date=start_date, end_date=end_date)],\n",
    "        )\n",
    "        \n",
    "        # Perform query and append to list\n",
    "        dfs_s[z].append(gp.query(service_account, report_request, report_type=\"report\"))"
   ]
  },
  {
   "cell_type": "markdown",
   "id": "255b38be-be3d-431e-974b-b31466df06f3",
   "metadata": {},
   "source": [
    "#### loyaltyList"
   ]
  },
  {
   "cell_type": "code",
   "execution_count": 1502,
   "id": "dbbd55dc-7037-4e4e-b02b-35def361c365",
   "metadata": {},
   "outputs": [
    {
     "name": "stdout",
     "output_type": "stream",
     "text": [
      "CPU times: user 127 ms, sys: 8.25 ms, total: 135 ms\n",
      "Wall time: 1.29 s\n"
     ]
    }
   ],
   "source": [
    "%%time\n",
    "\n",
    "# Empty list to fill with dataframes\n",
    "dfs_s_l = []\n",
    "\n",
    "# Request for all dimensions in list\n",
    "for x in range(len(dimensionsSpecial)):\n",
    "\n",
    "        report_request = gp.RunReportRequest(\n",
    "            property=f\"properties/{property_id}\",\n",
    "            dimensions=[\n",
    "                gp.Dimension(name=dateList[0]),\n",
    "                gp.Dimension(name=countryIdList[0]),\n",
    "                gp.Dimension(name=dimensionsSpecial[x])\n",
    "            ],\n",
    "            metrics=[\n",
    "                gp.Metric(name=loyaltyList[0]),\n",
    "                gp.Metric(name=loyaltyList[1]),\n",
    "                gp.Metric(name=loyaltyList[2]),\n",
    "            ],\n",
    "            date_ranges=[gp.DateRange(start_date=start_date, end_date=end_date)],\n",
    "        )\n",
    "        \n",
    "        # Perform query and append to list\n",
    "        dfs_s_l.append(gp.query(service_account, report_request, report_type=\"report\"))"
   ]
  },
  {
   "cell_type": "markdown",
   "id": "206600eb-6d0b-45f8-aec6-004a42d5e59f",
   "metadata": {},
   "source": [
    "#### activityList"
   ]
  },
  {
   "cell_type": "code",
   "execution_count": 1503,
   "id": "947afcd5-b3ac-4f1c-9b13-16bd3df126cd",
   "metadata": {},
   "outputs": [
    {
     "name": "stdout",
     "output_type": "stream",
     "text": [
      "CPU times: user 162 ms, sys: 8.67 ms, total: 171 ms\n",
      "Wall time: 1.05 s\n"
     ]
    }
   ],
   "source": [
    "%%time\n",
    "\n",
    "# Empty list to fill with dataframes\n",
    "dfs_s_a = []\n",
    "\n",
    "# Request for all dimensions in list\n",
    "for x in range(len(dimensionsSpecial)):\n",
    "\n",
    "        report_request = gp.RunReportRequest(\n",
    "            property=f\"properties/{property_id}\",\n",
    "            dimensions=[\n",
    "                gp.Dimension(name=dateList[0]),\n",
    "                gp.Dimension(name=countryIdList[0]),\n",
    "                gp.Dimension(name=dimensionsSpecial[x])\n",
    "            ],\n",
    "            metrics=[\n",
    "                gp.Metric(name=activityList[0]),\n",
    "                gp.Metric(name=activityList[1]),\n",
    "                gp.Metric(name=activityList[2]),\n",
    "            ],\n",
    "            date_ranges=[gp.DateRange(start_date=start_date, end_date=end_date)],\n",
    "        )\n",
    "        \n",
    "        # Perform query and append to list\n",
    "        dfs_s_a.append(gp.query(service_account, report_request, report_type=\"report\"))"
   ]
  },
  {
   "cell_type": "markdown",
   "id": "f749916a-4790-47f4-a59f-4ca8b0931c75",
   "metadata": {},
   "source": [
    "### dimensionsSpecialSpecial date"
   ]
  },
  {
   "cell_type": "markdown",
   "id": "e4831c16-d47d-4fa6-9838-9530c4048342",
   "metadata": {},
   "source": [
    "#### metricList"
   ]
  },
  {
   "cell_type": "code",
   "execution_count": 1504,
   "id": "faeeb7ae-968c-40f7-8b58-7a605425bb46",
   "metadata": {},
   "outputs": [
    {
     "name": "stdout",
     "output_type": "stream",
     "text": [
      "CPU times: user 247 ms, sys: 11.8 ms, total: 259 ms\n",
      "Wall time: 1.97 s\n"
     ]
    }
   ],
   "source": [
    "%%time\n",
    "\n",
    "# Empty list to fill with dataframes\n",
    "dfs_ssd = [[],[],[],]\n",
    "\n",
    "# Request for all dimensions in list\n",
    "for x in range(len(dimensionsSpecialSpecial)):\n",
    "    for y, z in zip([1,7,13],[0,1,2]): \n",
    "\n",
    "        report_request = gp.RunReportRequest(\n",
    "            property=f\"properties/{property_id}\",\n",
    "            dimensions=[\n",
    "                gp.Dimension(name=dateList[0]),\n",
    "                gp.Dimension(name=dimensionsSpecialSpecial[x])\n",
    "            ],\n",
    "            metrics=[\n",
    "                gp.Metric(name=metricList[y]),\n",
    "                gp.Metric(name=metricList[y+1]),\n",
    "                gp.Metric(name=metricList[y+2]),\n",
    "                gp.Metric(name=metricList[y+3]),\n",
    "                gp.Metric(name=metricList[y+4]),\n",
    "                gp.Metric(name=metricList[y+5]),\n",
    "            ],\n",
    "            date_ranges=[gp.DateRange(start_date=start_date, end_date=end_date)],\n",
    "        )\n",
    "        \n",
    "        # Perform query and append to list\n",
    "        dfs_ssd[z].append(gp.query(service_account, report_request, report_type=\"report\"))"
   ]
  },
  {
   "cell_type": "markdown",
   "id": "afd057fb-3a28-4f45-a0d8-8262af52a709",
   "metadata": {},
   "source": [
    "#### loyaltyList"
   ]
  },
  {
   "cell_type": "code",
   "execution_count": 1505,
   "id": "d2458fb3-38f5-42b0-9f5d-26ea5e62f454",
   "metadata": {},
   "outputs": [
    {
     "name": "stdout",
     "output_type": "stream",
     "text": [
      "CPU times: user 76.3 ms, sys: 4.86 ms, total: 81.1 ms\n",
      "Wall time: 884 ms\n"
     ]
    }
   ],
   "source": [
    "%%time\n",
    "\n",
    "# Empty list to fill with dataframes\n",
    "dfs_ssd_l = []\n",
    "\n",
    "# Request for all dimensions in list\n",
    "for x in range(len(dimensionsSpecialSpecial)):\n",
    "\n",
    "        report_request = gp.RunReportRequest(\n",
    "            property=f\"properties/{property_id}\",\n",
    "            dimensions=[\n",
    "                gp.Dimension(name=dateList[0]),\n",
    "                gp.Dimension(name=dimensionsSpecialSpecial[x])\n",
    "            ],\n",
    "            metrics=[\n",
    "                gp.Metric(name=loyaltyList[0]),\n",
    "                gp.Metric(name=loyaltyList[1]),\n",
    "                gp.Metric(name=loyaltyList[2]),\n",
    "            ],\n",
    "            date_ranges=[gp.DateRange(start_date=start_date, end_date=end_date)],\n",
    "        )\n",
    "        \n",
    "        # Perform query and append to list\n",
    "        dfs_ssd_l.append(gp.query(service_account, report_request, report_type=\"report\"))"
   ]
  },
  {
   "cell_type": "markdown",
   "id": "1cef950a-e79f-4317-b209-0da3a2ee5efb",
   "metadata": {},
   "source": [
    "#### activityList"
   ]
  },
  {
   "cell_type": "code",
   "execution_count": 1506,
   "id": "f5db84f4-ee80-4657-a62d-28d7fa3ee280",
   "metadata": {},
   "outputs": [
    {
     "name": "stdout",
     "output_type": "stream",
     "text": [
      "CPU times: user 76.2 ms, sys: 5.28 ms, total: 81.5 ms\n",
      "Wall time: 695 ms\n"
     ]
    }
   ],
   "source": [
    "%%time\n",
    "\n",
    "# Empty list to fill with dataframes\n",
    "dfs_ssd_a = []\n",
    "\n",
    "# Request for all dimensions in list\n",
    "for x in range(len(dimensionsSpecialSpecial)):\n",
    "\n",
    "        report_request = gp.RunReportRequest(\n",
    "            property=f\"properties/{property_id}\",\n",
    "            dimensions=[\n",
    "                gp.Dimension(name=dateList[0]),\n",
    "                gp.Dimension(name=dimensionsSpecialSpecial[x])\n",
    "            ],\n",
    "            metrics=[\n",
    "                gp.Metric(name=activityList[0]),\n",
    "                gp.Metric(name=activityList[1]),\n",
    "                gp.Metric(name=activityList[2]),\n",
    "            ],\n",
    "            date_ranges=[gp.DateRange(start_date=start_date, end_date=end_date)],\n",
    "        )\n",
    "        \n",
    "        # Perform query and append to list\n",
    "        dfs_ssd_a.append(gp.query(service_account, report_request, report_type=\"report\"))"
   ]
  },
  {
   "cell_type": "markdown",
   "id": "fe7dde6d-9fbb-4de3-a2ba-9eb1213513d1",
   "metadata": {},
   "source": [
    "### dimensionsSpecialSpecial countryId"
   ]
  },
  {
   "cell_type": "markdown",
   "id": "904bd064-1a95-4964-99f6-450372df42b5",
   "metadata": {},
   "source": [
    "#### metricList"
   ]
  },
  {
   "cell_type": "code",
   "execution_count": 1507,
   "id": "a7e0d3ed-a1fb-4110-a970-a6df1d712bae",
   "metadata": {},
   "outputs": [
    {
     "name": "stdout",
     "output_type": "stream",
     "text": [
      "CPU times: user 251 ms, sys: 10.6 ms, total: 262 ms\n",
      "Wall time: 2.24 s\n"
     ]
    }
   ],
   "source": [
    "%%time\n",
    "\n",
    "# Empty list to fill with dataframes\n",
    "dfs_ssc = [[],[],[],]\n",
    "\n",
    "# Request for all dimensions in list\n",
    "for x in range(len(dimensionsSpecialSpecial)):\n",
    "    for y, z in zip([1,7,13],[0,1,2]): \n",
    "\n",
    "        report_request = gp.RunReportRequest(\n",
    "            property=f\"properties/{property_id}\",\n",
    "            dimensions=[\n",
    "                gp.Dimension(name=countryIdList[0]),\n",
    "                gp.Dimension(name=dimensionsSpecialSpecial[x])\n",
    "            ],\n",
    "            metrics=[\n",
    "                gp.Metric(name=metricList[y]),\n",
    "                gp.Metric(name=metricList[y+1]),\n",
    "                gp.Metric(name=metricList[y+2]),\n",
    "                gp.Metric(name=metricList[y+3]),\n",
    "                gp.Metric(name=metricList[y+4]),\n",
    "                gp.Metric(name=metricList[y+5]),\n",
    "            ],\n",
    "            date_ranges=[gp.DateRange(start_date=start_date, end_date=end_date)],\n",
    "        )\n",
    "        \n",
    "        # Perform query and append to list\n",
    "        dfs_ssc[z].append(gp.query(service_account, report_request, report_type=\"report\"))"
   ]
  },
  {
   "cell_type": "markdown",
   "id": "aff5f44d-bf89-4daa-9028-3334f419ccb8",
   "metadata": {},
   "source": [
    "#### loyaltyList"
   ]
  },
  {
   "cell_type": "code",
   "execution_count": 1508,
   "id": "0f7b9dd9-4581-4e24-b803-7ee779656ee2",
   "metadata": {},
   "outputs": [
    {
     "name": "stdout",
     "output_type": "stream",
     "text": [
      "CPU times: user 79 ms, sys: 5.08 ms, total: 84.1 ms\n",
      "Wall time: 488 ms\n"
     ]
    }
   ],
   "source": [
    "%%time\n",
    "\n",
    "# Empty list to fill with dataframes\n",
    "dfs_ssc_l = []\n",
    "\n",
    "# Request for all dimensions in list\n",
    "for x in range(len(dimensionsSpecialSpecial)):\n",
    "\n",
    "        report_request = gp.RunReportRequest(\n",
    "            property=f\"properties/{property_id}\",\n",
    "            dimensions=[\n",
    "                gp.Dimension(name=countryIdList[0]),\n",
    "                gp.Dimension(name=dimensionsSpecialSpecial[x])\n",
    "            ],\n",
    "            metrics=[\n",
    "                gp.Metric(name=loyaltyList[0]),\n",
    "                gp.Metric(name=loyaltyList[1]),\n",
    "                gp.Metric(name=loyaltyList[2]),\n",
    "            ],\n",
    "            date_ranges=[gp.DateRange(start_date=start_date, end_date=end_date)],\n",
    "        )\n",
    "        \n",
    "        # Perform query and append to list\n",
    "        dfs_ssc_l.append(gp.query(service_account, report_request, report_type=\"report\"))"
   ]
  },
  {
   "cell_type": "markdown",
   "id": "97c69bed-57a7-4894-a064-1ced865a2a01",
   "metadata": {},
   "source": [
    "#### activityList"
   ]
  },
  {
   "cell_type": "code",
   "execution_count": 1509,
   "id": "030c65ca-4e29-4b26-959c-0f1630f7706e",
   "metadata": {},
   "outputs": [
    {
     "name": "stdout",
     "output_type": "stream",
     "text": [
      "CPU times: user 78.1 ms, sys: 4.8 ms, total: 82.9 ms\n",
      "Wall time: 495 ms\n"
     ]
    }
   ],
   "source": [
    "%%time\n",
    "\n",
    "# Empty list to fill with dataframes\n",
    "dfs_ssc_a = []\n",
    "\n",
    "# Request for all dimensions in list\n",
    "for x in range(len(dimensionsSpecialSpecial)):\n",
    "\n",
    "        report_request = gp.RunReportRequest(\n",
    "            property=f\"properties/{property_id}\",\n",
    "            dimensions=[\n",
    "                gp.Dimension(name=countryIdList[0]),\n",
    "                gp.Dimension(name=dimensionsSpecialSpecial[x])\n",
    "            ],\n",
    "            metrics=[\n",
    "                gp.Metric(name=activityList[0]),\n",
    "                gp.Metric(name=activityList[1]),\n",
    "                gp.Metric(name=activityList[2]),\n",
    "            ],\n",
    "            date_ranges=[gp.DateRange(start_date=start_date, end_date=end_date)],\n",
    "        )\n",
    "        \n",
    "        # Perform query and append to list\n",
    "        dfs_ssc_a.append(gp.query(service_account, report_request, report_type=\"report\"))"
   ]
  },
  {
   "cell_type": "markdown",
   "id": "3f7dacdd-b8bb-46a2-a86d-a8fbd2b14358",
   "metadata": {},
   "source": [
    "## Formatting"
   ]
  },
  {
   "cell_type": "markdown",
   "id": "be5a630c-2037-48f3-8ba8-bffc1cdf2a28",
   "metadata": {},
   "source": [
    "#### metricList"
   ]
  },
  {
   "cell_type": "code",
   "execution_count": 1510,
   "id": "929cfa3b-7139-4ddf-a41e-296f1782ca7b",
   "metadata": {
    "scrolled": true
   },
   "outputs": [
    {
     "name": "stdout",
     "output_type": "stream",
     "text": [
      "CPU times: user 11.2 ms, sys: 1.82 ms, total: 13 ms\n",
      "Wall time: 11.9 ms\n"
     ]
    }
   ],
   "source": [
    "%%time\n",
    "\n",
    "# Drop the extra Totalusers column, since it exists twice in the tables to merge\n",
    "# since metricList contained it twice.\n",
    "\n",
    "for x in range(len(dimensions)):\n",
    "    for z in [2]:\n",
    "        dfs[z][x].drop(columns=['totalUsers'],inplace=True)\n",
    "\n",
    "for x in range(len(dimensionsSpecial)):\n",
    "    for z in [2]:\n",
    "        dfs_s[z][x].drop(columns=['totalUsers'],inplace=True)\n",
    "\n",
    "for x in range(len(dimensionsSpecialSpecial)):\n",
    "    for z in [2]:\n",
    "        dfs_ssd[z][x].drop(columns=['totalUsers'],inplace=True)\n",
    "\n",
    "for x in range(len(dimensionsSpecialSpecial)):\n",
    "    for z in [2]:\n",
    "        dfs_ssc[z][x].drop(columns=['totalUsers'],inplace=True)"
   ]
  },
  {
   "cell_type": "markdown",
   "id": "01b06d35-aeee-438b-acb3-7985d61db6a4",
   "metadata": {},
   "source": [
    "#### metricList"
   ]
  },
  {
   "cell_type": "code",
   "execution_count": 1511,
   "id": "5a688514-c073-4ed8-ae70-a68ee9c49829",
   "metadata": {},
   "outputs": [
    {
     "name": "stdout",
     "output_type": "stream",
     "text": [
      "CPU times: user 220 ms, sys: 5.09 ms, total: 225 ms\n",
      "Wall time: 224 ms\n"
     ]
    }
   ],
   "source": [
    "%%time\n",
    "\n",
    "for x in range(len(dimensions)):\n",
    "    for z in [0,1,2]: \n",
    "        dfs[z][x] = dates_funcs.sortOut_dateHour_short(dfs[z][x])\n",
    "\n",
    "for x in range(len(dimensionsSpecial)):\n",
    "    for z in [0,1,2]: \n",
    "        dfs_s[z][x] = dates_funcs.sortOut_date_short(dfs_s[z][x])\n",
    "        \n",
    "for x in range(len(dimensionsSpecialSpecial)):\n",
    "    for z in [0,1,2]: \n",
    "        dfs_ssd[z][x] = dates_funcs.sortOut_date_short(dfs_ssd[z][x])"
   ]
  },
  {
   "cell_type": "markdown",
   "id": "044a0aa4-8512-46d1-804e-ae7a83148dcd",
   "metadata": {},
   "source": [
    "#### loyaltyList"
   ]
  },
  {
   "cell_type": "code",
   "execution_count": 1512,
   "id": "61b216be-db94-4761-a28b-423c0847d4d6",
   "metadata": {},
   "outputs": [
    {
     "name": "stdout",
     "output_type": "stream",
     "text": [
      "CPU times: user 58.5 ms, sys: 2.66 ms, total: 61.2 ms\n",
      "Wall time: 61.2 ms\n"
     ]
    }
   ],
   "source": [
    "%%time\n",
    "\n",
    "for x in range(len(dimensions)):\n",
    "        dfs_l[x] = dates_funcs.sortOut_date_short(dfs_l[x])\n",
    "\n",
    "for x in range(len(dimensionsSpecial)):\n",
    "        dfs_s_l[x] = dates_funcs.sortOut_date_short(dfs_s_l[x])\n",
    "        \n",
    "for x in range(len(dimensionsSpecialSpecial)):\n",
    "        dfs_ssd_l[x] = dates_funcs.sortOut_date_short(dfs_ssd_l[x])"
   ]
  },
  {
   "cell_type": "markdown",
   "id": "4ad6e8c6-cde3-40ad-af4e-fbd62fc4f2de",
   "metadata": {},
   "source": [
    "#### activityList"
   ]
  },
  {
   "cell_type": "code",
   "execution_count": 1513,
   "id": "275131d5-4a5c-4d43-85ca-bbdbad63f0e3",
   "metadata": {},
   "outputs": [
    {
     "name": "stdout",
     "output_type": "stream",
     "text": [
      "CPU times: user 79.5 ms, sys: 2.77 ms, total: 82.3 ms\n",
      "Wall time: 82.1 ms\n"
     ]
    }
   ],
   "source": [
    "%%time\n",
    "\n",
    "for x in range(len(dimensions)):\n",
    "        dfs_a[x] = dates_funcs.sortOut_date_short(dfs_a[x])\n",
    "\n",
    "for x in range(len(dimensionsSpecial)):\n",
    "        dfs_s_a[x] = dates_funcs.sortOut_date_short(dfs_s_a[x])\n",
    "        \n",
    "for x in range(len(dimensionsSpecialSpecial)):\n",
    "        dfs_ssd_a[x] = dates_funcs.sortOut_date_short(dfs_ssd_a[x])"
   ]
  },
  {
   "cell_type": "markdown",
   "id": "108d3e65-b543-490a-8493-b9752b808182",
   "metadata": {},
   "source": [
    "## Merge"
   ]
  },
  {
   "cell_type": "code",
   "execution_count": 1514,
   "id": "a7f865f3-e950-4ff5-9eba-d75f33c248c2",
   "metadata": {},
   "outputs": [
    {
     "name": "stdout",
     "output_type": "stream",
     "text": [
      "CPU times: user 26.8 ms, sys: 2.41 ms, total: 29.2 ms\n",
      "Wall time: 28.2 ms\n"
     ]
    }
   ],
   "source": [
    "%%time\n",
    "\n",
    "dfs_merged = list(range(len(dimensions)))\n",
    "for x in range(len(dimensions)):\n",
    "    mergeOn = ['dateTime','dateFull','time','cityId'] \n",
    "    mergeDim = [dimensions[x]]\n",
    "    mergeOn =  mergeOn + mergeDim\n",
    "    dfs_merged[x] = dfs[0][x].merge(dfs[1][x], how='outer', on=mergeOn)"
   ]
  },
  {
   "cell_type": "code",
   "execution_count": 1515,
   "id": "0d843d4e-8424-40eb-8665-cc2027418dbf",
   "metadata": {},
   "outputs": [
    {
     "name": "stdout",
     "output_type": "stream",
     "text": [
      "CPU times: user 26.2 ms, sys: 2.25 ms, total: 28.5 ms\n",
      "Wall time: 27.3 ms\n"
     ]
    }
   ],
   "source": [
    "%%time\n",
    "\n",
    "for n in range(len(dimensions)):\n",
    "    mergeOn = ['dateTime','dateFull','time','cityId'] \n",
    "    mergeDim = [dimensions[n]]\n",
    "    mergeOn =  mergeOn + mergeDim\n",
    "    dfs_merged[n] = dfs_merged[n].merge(dfs[2][n], how='outer', on=mergeOn)"
   ]
  },
  {
   "cell_type": "code",
   "execution_count": 1516,
   "id": "39ec2f4a-c3d1-476a-b5eb-acf682d0838c",
   "metadata": {},
   "outputs": [],
   "source": [
    "dfs_s_merged = list(range(len(dimensionsSpecial)))\n",
    "for x in range(len(dimensionsSpecial)):\n",
    "    mergeOn = ['dateFull','countryId'] \n",
    "    mergeDim = [dimensionsSpecial[x]]\n",
    "    mergeOn =  mergeOn + mergeDim\n",
    "    dfs_s_merged[x] = dfs_s[0][x].merge(dfs_s[1][x], how='outer', on=mergeOn)"
   ]
  },
  {
   "cell_type": "code",
   "execution_count": 1517,
   "id": "c44c91ae-e8c3-4cd7-807e-3eef6eb5cf20",
   "metadata": {},
   "outputs": [],
   "source": [
    "for n in range(len(dimensionsSpecial)):\n",
    "    mergeOn = ['dateFull','countryId'] \n",
    "    mergeDim = [dimensionsSpecial[n]]\n",
    "    mergeOn =  mergeOn + mergeDim\n",
    "    dfs_s_merged[n] = dfs_s_merged[n].merge(dfs_s[2][n], how='outer', on=mergeOn)"
   ]
  },
  {
   "cell_type": "code",
   "execution_count": 1518,
   "id": "bdbf1670-95b3-451c-b3bb-ad5662ab27a4",
   "metadata": {},
   "outputs": [],
   "source": [
    "dfs_ssd_merged = list(range(len(dimensionsSpecialSpecial)))\n",
    "for x in range(len(dimensionsSpecialSpecial)):\n",
    "    mergeOn = ['dateFull'] \n",
    "    mergeDim = [dimensionsSpecialSpecial[x]]\n",
    "    mergeOn =  mergeOn + mergeDim\n",
    "    dfs_ssd_merged[x] = dfs_ssd[0][x].merge(dfs_ssd[1][x], how='outer', on=mergeOn)"
   ]
  },
  {
   "cell_type": "code",
   "execution_count": 1519,
   "id": "788e6b12-b19a-46e1-828f-7c4aab595b74",
   "metadata": {},
   "outputs": [],
   "source": [
    "for n in range(len(dimensionsSpecialSpecial)):\n",
    "    mergeOn = ['dateFull'] \n",
    "    mergeDim = [dimensionsSpecialSpecial[n]]\n",
    "    mergeOn =  mergeOn + mergeDim\n",
    "    dfs_ssd_merged[n] = dfs_ssd_merged[n].merge(dfs_ssd[2][n], how='outer', on=mergeOn)"
   ]
  },
  {
   "cell_type": "code",
   "execution_count": 1520,
   "id": "9d073585-f5b7-4843-bc66-d6bb698548e1",
   "metadata": {},
   "outputs": [],
   "source": [
    "dfs_ssc_merged = list(range(len(dimensionsSpecialSpecial)))\n",
    "for x in range(len(dimensionsSpecialSpecial)):\n",
    "    mergeOn = ['countryId'] \n",
    "    mergeDim = [dimensionsSpecialSpecial[x]]\n",
    "    mergeOn =  mergeOn + mergeDim\n",
    "    dfs_ssc_merged[x] = dfs_ssc[0][x].merge(dfs_ssc[1][x], how='outer', on=mergeOn)"
   ]
  },
  {
   "cell_type": "code",
   "execution_count": 1521,
   "id": "62302a27-4120-4ed8-8673-8f6cee8c432a",
   "metadata": {},
   "outputs": [],
   "source": [
    "for n in range(len(dimensionsSpecialSpecial)):\n",
    "    mergeOn = ['countryId'] \n",
    "    mergeDim = [dimensionsSpecialSpecial[n]]\n",
    "    mergeOn =  mergeOn + mergeDim\n",
    "    dfs_ssc_merged[n] = dfs_ssc_merged[n].merge(dfs_ssc[2][n], how='outer', on=mergeOn)"
   ]
  },
  {
   "cell_type": "markdown",
   "id": "42e28d38-9701-495e-ad58-115d969e44bd",
   "metadata": {
    "tags": []
   },
   "source": [
    "## Sort out NA"
   ]
  },
  {
   "cell_type": "markdown",
   "id": "21c3adf7-5e9b-4a73-b018-81dc497d2178",
   "metadata": {},
   "source": [
    "#### metricList"
   ]
  },
  {
   "cell_type": "code",
   "execution_count": 1522,
   "id": "d939acfe-f85c-45a1-aa22-816bf0649730",
   "metadata": {},
   "outputs": [
    {
     "name": "stdout",
     "output_type": "stream",
     "text": [
      "(516, 22)\n",
      "(540, 22)\n",
      "(553, 22)\n",
      "(537, 22)\n",
      "(558, 22)\n",
      "(533, 22)\n",
      "(576, 22)\n",
      "(579, 22)\n",
      "(497, 22)\n",
      "(594, 22)\n",
      "(528, 22)\n",
      "(545, 22)\n",
      "(525, 22)\n",
      "(543, 22)\n",
      "(1786, 22)\n",
      "(796, 22)\n",
      "(536, 22)\n",
      "(591, 22)\n",
      "(744, 22)\n"
     ]
    }
   ],
   "source": [
    "dfs_merged_fillNA = list(range(len(dimensions)))\n",
    "\n",
    "for n in range(len(dimensions)):\n",
    "    dfs_merged_fillNA[n] = dfs_merged[n].replace('', np.nan)\n",
    "    dfs_merged_fillNA[n] = dfs_merged_fillNA[n].replace('(not set)', np.nan)\n",
    "    print(dfs_merged_fillNA[n].shape)"
   ]
  },
  {
   "cell_type": "code",
   "execution_count": 1523,
   "id": "06d59a7e-fa9c-4b5f-a66f-9b53b38a1be2",
   "metadata": {},
   "outputs": [
    {
     "name": "stdout",
     "output_type": "stream",
     "text": [
      "(11, 20)\n",
      "(42, 20)\n"
     ]
    }
   ],
   "source": [
    "dfs_s_merged_fillNA = list(range(len(dimensionsSpecial)))\n",
    "\n",
    "for n in range(len(dimensionsSpecial)):\n",
    "    dfs_s_merged_fillNA[n] = dfs_s_merged[n].replace('', np.nan)\n",
    "    dfs_s_merged_fillNA[n] = dfs_s_merged_fillNA[n].replace('(not set)', np.nan)\n",
    "    print(dfs_s_merged_fillNA[n].shape)"
   ]
  },
  {
   "cell_type": "code",
   "execution_count": 1524,
   "id": "88826cdb-a931-4dcc-8112-48548322a8fd",
   "metadata": {},
   "outputs": [
    {
     "name": "stdout",
     "output_type": "stream",
     "text": [
      "(3, 19)\n"
     ]
    }
   ],
   "source": [
    "dfs_ssd_merged_fillNA = list(range(len(dimensionsSpecialSpecial)))\n",
    "\n",
    "for n in range(len(dimensionsSpecialSpecial)):\n",
    "    dfs_ssd_merged_fillNA[n] = dfs_ssd_merged[n].replace('', np.nan)\n",
    "    dfs_ssd_merged_fillNA[n] = dfs_ssd_merged_fillNA[n].replace('(not set)', np.nan)\n",
    "    print(dfs_ssd_merged_fillNA[n].shape)"
   ]
  },
  {
   "cell_type": "code",
   "execution_count": 1525,
   "id": "39e20ab5-5f31-48db-bdc7-11e80a56dccc",
   "metadata": {},
   "outputs": [
    {
     "name": "stdout",
     "output_type": "stream",
     "text": [
      "(7, 19)\n"
     ]
    }
   ],
   "source": [
    "dfs_ssc_merged_fillNA = list(range(len(dimensionsSpecialSpecial)))\n",
    "\n",
    "for n in range(len(dimensionsSpecialSpecial)):\n",
    "    dfs_ssc_merged_fillNA[n] = dfs_ssc_merged[n].replace('', np.nan)\n",
    "    dfs_ssc_merged_fillNA[n] = dfs_ssc_merged_fillNA[n].replace('(not set)', np.nan)\n",
    "    print(dfs_ssc_merged_fillNA[n].shape)"
   ]
  },
  {
   "cell_type": "markdown",
   "id": "a5dbfe99-1606-4814-95ea-87759bc00f6e",
   "metadata": {},
   "source": [
    "#### loyaltyList"
   ]
  },
  {
   "cell_type": "code",
   "execution_count": 1526,
   "id": "611291d3-d3c5-4a53-91d1-381cefd2d608",
   "metadata": {},
   "outputs": [
    {
     "name": "stdout",
     "output_type": "stream",
     "text": [
      "(954, 6)\n",
      "(1119, 6)\n",
      "(1192, 6)\n",
      "(1047, 6)\n",
      "(1281, 6)\n",
      "(1303, 6)\n",
      "(1674, 6)\n",
      "(1863, 6)\n",
      "(809, 6)\n",
      "(2054, 6)\n",
      "(1013, 6)\n",
      "(1141, 6)\n",
      "(1019, 6)\n",
      "(1154, 6)\n",
      "(3478, 6)\n",
      "(2748, 6)\n",
      "(994, 6)\n",
      "(2122, 6)\n",
      "(2100, 6)\n"
     ]
    }
   ],
   "source": [
    "dfs_l_fillNA = list(range(len(dimensions)))\n",
    "\n",
    "for n in range(len(dimensions)):\n",
    "    dfs_l_fillNA[n] = dfs_l[n].replace('', np.nan)\n",
    "    dfs_l_fillNA[n] = dfs_l_fillNA[n].replace('(not set)', np.nan)\n",
    "    print(dfs_l_fillNA[n].shape)"
   ]
  },
  {
   "cell_type": "code",
   "execution_count": 1527,
   "id": "083b3b82-c758-4c50-84a8-e1699534805b",
   "metadata": {},
   "outputs": [
    {
     "name": "stdout",
     "output_type": "stream",
     "text": [
      "(11, 6)\n",
      "(42, 6)\n"
     ]
    }
   ],
   "source": [
    "dfs_s_l_fillNA = list(range(len(dimensionsSpecial)))\n",
    "\n",
    "for n in range(len(dimensionsSpecial)):\n",
    "    dfs_s_l_fillNA[n] = dfs_s_l[n].replace('', np.nan)\n",
    "    dfs_s_l_fillNA[n] = dfs_s_l_fillNA[n].replace('(not set)', np.nan)\n",
    "    print(dfs_s_l_fillNA[n].shape)"
   ]
  },
  {
   "cell_type": "code",
   "execution_count": 1528,
   "id": "5e5d7dc9-3e05-4e33-a8e9-3ffb4782b506",
   "metadata": {},
   "outputs": [
    {
     "name": "stdout",
     "output_type": "stream",
     "text": [
      "(3, 5)\n"
     ]
    }
   ],
   "source": [
    "dfs_ssd_l_fillNA = list(range(len(dimensionsSpecialSpecial)))\n",
    "\n",
    "for n in range(len(dimensionsSpecialSpecial)):\n",
    "    dfs_ssd_l_fillNA[n] = dfs_ssd_l[n].replace('', np.nan)\n",
    "    dfs_ssd_l_fillNA[n] = dfs_ssd_l_fillNA[n].replace('(not set)', np.nan)\n",
    "    print(dfs_ssd_l_fillNA[n].shape)"
   ]
  },
  {
   "cell_type": "code",
   "execution_count": 1529,
   "id": "41371d38-c3ce-4245-a3ed-0962267911a5",
   "metadata": {},
   "outputs": [
    {
     "name": "stdout",
     "output_type": "stream",
     "text": [
      "(7, 5)\n"
     ]
    }
   ],
   "source": [
    "dfs_ssc_l_fillNA = list(range(len(dimensionsSpecialSpecial)))\n",
    "\n",
    "for n in range(len(dimensionsSpecialSpecial)):\n",
    "    dfs_ssc_l_fillNA[n] = dfs_ssc_l[n].replace('', np.nan)\n",
    "    dfs_ssc_l_fillNA[n] = dfs_ssc_l_fillNA[n].replace('(not set)', np.nan)\n",
    "    print(dfs_ssc_l_fillNA[n].shape)"
   ]
  },
  {
   "cell_type": "markdown",
   "id": "f631b460-b3ee-40ea-b3eb-81584b49d90e",
   "metadata": {},
   "source": [
    "#### activityList"
   ]
  },
  {
   "cell_type": "code",
   "execution_count": 1530,
   "id": "a1eda6f0-5faa-4145-9b5f-1139308c879a",
   "metadata": {},
   "outputs": [
    {
     "name": "stdout",
     "output_type": "stream",
     "text": [
      "(2011, 6)\n",
      "(2501, 6)\n",
      "(2608, 6)\n",
      "(2207, 6)\n",
      "(2922, 6)\n",
      "(3076, 6)\n",
      "(4234, 6)\n",
      "(4525, 6)\n",
      "(1565, 6)\n",
      "(5295, 6)\n",
      "(2006, 6)\n",
      "(2439, 6)\n",
      "(2022, 6)\n",
      "(2460, 6)\n",
      "(6841, 6)\n",
      "(6653, 6)\n",
      "(2063, 6)\n",
      "(5306, 6)\n",
      "(4952, 6)\n"
     ]
    }
   ],
   "source": [
    "dfs_a_fillNA = list(range(len(dimensions)))\n",
    "\n",
    "for n in range(len(dimensions)):\n",
    "    dfs_a_fillNA[n] = dfs_a[n].replace('', np.nan)\n",
    "    dfs_a_fillNA[n] = dfs_a_fillNA[n].replace('(not set)', np.nan)\n",
    "    print(dfs_a_fillNA[n].shape)"
   ]
  },
  {
   "cell_type": "code",
   "execution_count": 1531,
   "id": "bdfb8afb-80d6-4821-b4a3-94437ef8854d",
   "metadata": {},
   "outputs": [
    {
     "name": "stdout",
     "output_type": "stream",
     "text": [
      "(11, 6)\n",
      "(42, 6)\n"
     ]
    }
   ],
   "source": [
    "dfs_s_a_fillNA = list(range(len(dimensionsSpecial)))\n",
    "\n",
    "for n in range(len(dimensionsSpecial)):\n",
    "    dfs_s_a_fillNA[n] = dfs_s_a[n].replace('', np.nan)\n",
    "    dfs_s_a_fillNA[n] = dfs_s_a_fillNA[n].replace('(not set)', np.nan)\n",
    "    print(dfs_s_a_fillNA[n].shape)"
   ]
  },
  {
   "cell_type": "code",
   "execution_count": 1532,
   "id": "2391a47a-fda5-4971-a969-c465b06b2c0b",
   "metadata": {},
   "outputs": [
    {
     "name": "stdout",
     "output_type": "stream",
     "text": [
      "(3, 5)\n"
     ]
    }
   ],
   "source": [
    "dfs_ssd_a_fillNA = list(range(len(dimensionsSpecialSpecial)))\n",
    "\n",
    "for n in range(len(dimensionsSpecialSpecial)):\n",
    "    dfs_ssd_a_fillNA[n] = dfs_ssd_a[n].replace('', np.nan)\n",
    "    dfs_ssd_a_fillNA[n] = dfs_ssd_a_fillNA[n].replace('(not set)', np.nan)\n",
    "    print(dfs_ssd_a_fillNA[n].shape)"
   ]
  },
  {
   "cell_type": "code",
   "execution_count": 1533,
   "id": "025bb133-ac28-447d-a840-911113739857",
   "metadata": {},
   "outputs": [
    {
     "name": "stdout",
     "output_type": "stream",
     "text": [
      "(7, 5)\n"
     ]
    }
   ],
   "source": [
    "dfs_ssc_a_fillNA = list(range(len(dimensionsSpecialSpecial)))\n",
    "\n",
    "for n in range(len(dimensionsSpecialSpecial)):\n",
    "    dfs_ssc_a_fillNA[n] = dfs_ssc_a[n].replace('', np.nan)\n",
    "    dfs_ssc_a_fillNA[n] = dfs_ssc_a_fillNA[n].replace('(not set)', np.nan)\n",
    "    print(dfs_ssc_a_fillNA[n].shape)"
   ]
  },
  {
   "cell_type": "markdown",
   "id": "a0e4fdde-bffb-46e6-8cc5-174fccb869a7",
   "metadata": {},
   "source": [
    "## Max time to latestDatefile"
   ]
  },
  {
   "cell_type": "code",
   "execution_count": 1534,
   "id": "4d3295d1-801e-40ea-804a-698f68a1344d",
   "metadata": {
    "tags": []
   },
   "outputs": [
    {
     "name": "stdout",
     "output_type": "stream",
     "text": [
      "2023-01-14\n",
      "CPU times: user 231 µs, sys: 21 µs, total: 252 µs\n",
      "Wall time: 250 µs\n"
     ]
    }
   ],
   "source": [
    "%%time\n",
    "\n",
    "# Find largest date in dataframes, looking at df eventName, which should have all dates. (?)\n",
    "maxTimestamp = dfs_merged_fillNA[14][\"dateFull\"].max()\n",
    "maxTimestampString = datetime.datetime.strftime(maxTimestamp,'%Y-%m-%d')\n",
    "maxDate = datetime.datetime.strptime(maxTimestampString,'%Y-%m-%d').date()\n",
    "\n",
    "print(maxDate)"
   ]
  },
  {
   "cell_type": "code",
   "execution_count": 1535,
   "id": "10d731ea-35a9-446c-a715-57025530cf5a",
   "metadata": {},
   "outputs": [
    {
     "name": "stdout",
     "output_type": "stream",
     "text": [
      "CPU times: user 1e+03 ns, sys: 0 ns, total: 1e+03 ns\n",
      "Wall time: 4.29 µs\n"
     ]
    }
   ],
   "source": [
    "%%time \n",
    "\n",
    "# If date is larger than priviously max date.\n",
    "if maxDate > maxSavedDate:\n",
    "# Write largest date to file\n",
    "    f = open(\"latestDate.txt\", 'w')\n",
    "    f.write(maxTimestampString)\n",
    "    f.close()"
   ]
  },
  {
   "cell_type": "markdown",
   "id": "a124fc91-a106-43b8-8e8e-0746e818a83a",
   "metadata": {
    "tags": []
   },
   "source": [
    "## Dataframes to .csv"
   ]
  },
  {
   "cell_type": "code",
   "execution_count": 1536,
   "id": "4d51fffe-de45-473c-9e68-88831db5b687",
   "metadata": {},
   "outputs": [],
   "source": [
    "csvFilePath = \"output/csv/\"\n",
    "fileName = dimensions[n]\n",
    "\n",
    "sep = \",\"\n",
    "\n",
    "def appendDFToCSV(df, csvFilePath, fileName, sep):\n",
    "\n",
    "        fileNameFull = csvFilePath + fileName\n",
    "        print(fileNameFull)\n",
    "        if not os.path.isfile(fileNameFull):\n",
    "            df.to_csv(fileNameFull, mode='a', index=0, sep=sep)\n",
    "        elif len(df.columns) != len(pd.read_csv(fileNameFull, nrows=1, sep=sep).columns):\n",
    "            raise Exception(\"Columns do not match!! Dataframe has \" + str(len(df.columns)) + \" columns. CSV file has \" + str(len(pd.read_csv(fileNameFull, nrows=1, sep=sep).columns)) + \" columns.\")\n",
    "        #elif not (df.columns == pd.read_csv(fileNameFull, nrows=1, sep=sep).columns).all():\n",
    "        #    raise Exception(\"Columns and column order of dataframe and csv file do not match!!\")\n",
    "        else:\n",
    "            df.to_csv(fileNameFull, mode='a', index=0, sep=sep, header=False)\n"
   ]
  },
  {
   "cell_type": "code",
   "execution_count": 1537,
   "id": "7622eef3-bc36-4188-8d69-040e12980d48",
   "metadata": {},
   "outputs": [
    {
     "name": "stdout",
     "output_type": "stream",
     "text": [
      "output/csv/language_dateHour_cityId.csv\n",
      "output/csv/languageCode_dateHour_cityId.csv\n",
      "output/csv/browser_dateHour_cityId.csv\n",
      "output/csv/deviceCategory_dateHour_cityId.csv\n",
      "output/csv/mobileDeviceBranding_dateHour_cityId.csv\n",
      "output/csv/mobileDeviceMarketingName_dateHour_cityId.csv\n",
      "output/csv/mobileDeviceModel_dateHour_cityId.csv\n",
      "output/csv/operatingSystemWithVersion_dateHour_cityId.csv\n",
      "output/csv/platform_dateHour_cityId.csv\n",
      "output/csv/screenResolution_dateHour_cityId.csv\n",
      "output/csv/firstUserDefaultChannelGroup_dateHour_cityId.csv\n",
      "output/csv/firstUserSource_dateHour_cityId.csv\n",
      "output/csv/sessionDefaultChannelGroup_dateHour_cityId.csv\n",
      "output/csv/sessionSource_dateHour_cityId.csv\n",
      "output/csv/eventName_dateHour_cityId.csv\n",
      "output/csv/pagePath_dateHour_cityId.csv\n",
      "output/csv/linkUrl_dateHour_cityId.csv\n",
      "output/csv/landingPage_dateHour_cityId.csv\n",
      "output/csv/pageReferrer_dateHour_cityId.csv\n"
     ]
    }
   ],
   "source": [
    "for n in range(len(dfs_merged_fillNA)):\n",
    "    csvFilePath = \"output/csv/\"\n",
    "    fileName = dimensions[n]+\"_dateHour\"+\"_cityId\"+\".csv\" \n",
    "    appendDFToCSV(dfs_merged_fillNA[n], csvFilePath, dimensions[n]+\"_dateHour\"+\"_cityId\"+\".csv\", sep)"
   ]
  },
  {
   "cell_type": "code",
   "execution_count": 1538,
   "id": "6aa9abb2-3510-42f4-988f-40f78ab0d02a",
   "metadata": {
    "scrolled": true
   },
   "outputs": [
    {
     "name": "stdout",
     "output_type": "stream",
     "text": [
      "output/csv/userGender_date_countryId.csv\n",
      "output/csv/brandingInterest_date_countryId.csv\n"
     ]
    }
   ],
   "source": [
    "for n in range(len(dfs_s_merged_fillNA)):\n",
    "    csvFilePath = \"output/csv/\"\n",
    "    fileName = dimensionsSpecial[n]+\"_date\"+\"_countryId\"+\".csv\"\n",
    "    appendDFToCSV(dfs_s_merged_fillNA[n], csvFilePath, dimensionsSpecial[n]+\"_date\"+\"_countryId\"+\".csv\", sep)"
   ]
  },
  {
   "cell_type": "code",
   "execution_count": 1539,
   "id": "fb78188e-ae04-4c40-b312-668e2b31b684",
   "metadata": {
    "scrolled": true
   },
   "outputs": [
    {
     "name": "stdout",
     "output_type": "stream",
     "text": [
      "output/csv/userAgeBracket_date.csv\n"
     ]
    }
   ],
   "source": [
    "for n in range(len(dfs_ssd_merged_fillNA)):\n",
    "    csvFilePath = \"output/csv/\"\n",
    "    fileName = dimensionsSpecialSpecial[n]+\"_date\"\".csv\"\n",
    "    appendDFToCSV(dfs_ssd_merged_fillNA[n], csvFilePath, dimensionsSpecialSpecial[n]+\"_date\"+\".csv\", sep)"
   ]
  },
  {
   "cell_type": "code",
   "execution_count": 1540,
   "id": "d4111d08-06ae-4095-886a-b8007e46cd53",
   "metadata": {},
   "outputs": [
    {
     "name": "stdout",
     "output_type": "stream",
     "text": [
      "output/csv/userAgeBracket_countryId.csv\n"
     ]
    }
   ],
   "source": [
    "for n in range(len(dfs_ssc_merged_fillNA)):\n",
    "    csvFilePath = \"output/csv/\"\n",
    "    fileName = dimensionsSpecialSpecial[n]+\"_countryId\"+\".csv\"\n",
    "    appendDFToCSV(dfs_ssc_merged_fillNA[n], csvFilePath, dimensionsSpecialSpecial[n]+\"_countryId\"+\".csv\", sep)"
   ]
  },
  {
   "cell_type": "code",
   "execution_count": 1541,
   "id": "b7d83529-2a79-41a1-b4eb-a172481efd13",
   "metadata": {},
   "outputs": [
    {
     "data": {
      "text/html": [
       "<div>\n",
       "<style scoped>\n",
       "    .dataframe tbody tr th:only-of-type {\n",
       "        vertical-align: middle;\n",
       "    }\n",
       "\n",
       "    .dataframe tbody tr th {\n",
       "        vertical-align: top;\n",
       "    }\n",
       "\n",
       "    .dataframe thead th {\n",
       "        text-align: right;\n",
       "    }\n",
       "</style>\n",
       "<table border=\"1\" class=\"dataframe\">\n",
       "  <thead>\n",
       "    <tr style=\"text-align: right;\">\n",
       "      <th></th>\n",
       "      <th>countryId</th>\n",
       "      <th>userAgeBracket</th>\n",
       "      <th>totalUsers</th>\n",
       "      <th>newUsers</th>\n",
       "      <th>activeUsers</th>\n",
       "      <th>userEngagementDuration</th>\n",
       "      <th>scrolledUsers</th>\n",
       "      <th>averageSessionDuration</th>\n",
       "      <th>bounceRate</th>\n",
       "      <th>engagedSessions</th>\n",
       "      <th>engagementRate</th>\n",
       "      <th>sessions</th>\n",
       "      <th>sessionsPerUser</th>\n",
       "      <th>eventCount</th>\n",
       "      <th>eventCountPerUser</th>\n",
       "      <th>eventsPerSession</th>\n",
       "      <th>screenPageViews</th>\n",
       "      <th>screenPageViewsPerSession</th>\n",
       "      <th>screenPageViewsPerUser</th>\n",
       "    </tr>\n",
       "  </thead>\n",
       "  <tbody>\n",
       "    <tr>\n",
       "      <th>0</th>\n",
       "      <td>SE</td>\n",
       "      <td>unknown</td>\n",
       "      <td>315</td>\n",
       "      <td>309</td>\n",
       "      <td>311</td>\n",
       "      <td>25065</td>\n",
       "      <td>88</td>\n",
       "      <td>145.65285277207977</td>\n",
       "      <td>0.3504273504273504</td>\n",
       "      <td>228</td>\n",
       "      <td>0.6495726495726496</td>\n",
       "      <td>351</td>\n",
       "      <td>1.1286173633440515</td>\n",
       "      <td>1707</td>\n",
       "      <td>5.4887459807073951</td>\n",
       "      <td>4.8632478632478628</td>\n",
       "      <td>521</td>\n",
       "      <td>1.4843304843304843</td>\n",
       "      <td>1.67524115755627</td>\n",
       "    </tr>\n",
       "    <tr>\n",
       "      <th>1</th>\n",
       "      <td>SE</td>\n",
       "      <td>25-34</td>\n",
       "      <td>30</td>\n",
       "      <td>26</td>\n",
       "      <td>29</td>\n",
       "      <td>2684</td>\n",
       "      <td>9</td>\n",
       "      <td>173.2595374</td>\n",
       "      <td>0.55</td>\n",
       "      <td>18</td>\n",
       "      <td>0.45</td>\n",
       "      <td>40</td>\n",
       "      <td>1.3793103448275863</td>\n",
       "      <td>217</td>\n",
       "      <td>7.4827586206896548</td>\n",
       "      <td>5.425</td>\n",
       "      <td>73</td>\n",
       "      <td>1.825</td>\n",
       "      <td>2.5172413793103448</td>\n",
       "    </tr>\n",
       "    <tr>\n",
       "      <th>2</th>\n",
       "      <td>SE</td>\n",
       "      <td>45-54</td>\n",
       "      <td>26</td>\n",
       "      <td>23</td>\n",
       "      <td>26</td>\n",
       "      <td>1421</td>\n",
       "      <td>9</td>\n",
       "      <td>133.295692</td>\n",
       "      <td>0.29032258064516131</td>\n",
       "      <td>22</td>\n",
       "      <td>0.70967741935483875</td>\n",
       "      <td>31</td>\n",
       "      <td>1.1923076923076923</td>\n",
       "      <td>153</td>\n",
       "      <td>5.884615384615385</td>\n",
       "      <td>4.935483870967742</td>\n",
       "      <td>46</td>\n",
       "      <td>1.4838709677419355</td>\n",
       "      <td>1.7692307692307692</td>\n",
       "    </tr>\n",
       "    <tr>\n",
       "      <th>3</th>\n",
       "      <td>SE</td>\n",
       "      <td>65+</td>\n",
       "      <td>23</td>\n",
       "      <td>18</td>\n",
       "      <td>22</td>\n",
       "      <td>1593</td>\n",
       "      <td>12</td>\n",
       "      <td>126.62616813793103</td>\n",
       "      <td>0.34482758620689657</td>\n",
       "      <td>19</td>\n",
       "      <td>0.65517241379310343</td>\n",
       "      <td>29</td>\n",
       "      <td>1.3181818181818181</td>\n",
       "      <td>122</td>\n",
       "      <td>5.5454545454545459</td>\n",
       "      <td>4.2068965517241379</td>\n",
       "      <td>35</td>\n",
       "      <td>1.2068965517241379</td>\n",
       "      <td>1.5909090909090908</td>\n",
       "    </tr>\n",
       "    <tr>\n",
       "      <th>4</th>\n",
       "      <td>SE</td>\n",
       "      <td>35-44</td>\n",
       "      <td>19</td>\n",
       "      <td>17</td>\n",
       "      <td>19</td>\n",
       "      <td>1203</td>\n",
       "      <td>7</td>\n",
       "      <td>267.81998942307695</td>\n",
       "      <td>0.73076923076923073</td>\n",
       "      <td>7</td>\n",
       "      <td>0.26923076923076922</td>\n",
       "      <td>26</td>\n",
       "      <td>1.368421052631579</td>\n",
       "      <td>100</td>\n",
       "      <td>5.2631578947368425</td>\n",
       "      <td>3.8461538461538463</td>\n",
       "      <td>28</td>\n",
       "      <td>1.0769230769230769</td>\n",
       "      <td>1.4736842105263157</td>\n",
       "    </tr>\n",
       "    <tr>\n",
       "      <th>5</th>\n",
       "      <td>SE</td>\n",
       "      <td>55-64</td>\n",
       "      <td>18</td>\n",
       "      <td>17</td>\n",
       "      <td>17</td>\n",
       "      <td>645</td>\n",
       "      <td>6</td>\n",
       "      <td>43.394766040000007</td>\n",
       "      <td>0.6</td>\n",
       "      <td>10</td>\n",
       "      <td>0.4</td>\n",
       "      <td>25</td>\n",
       "      <td>1.4705882352941178</td>\n",
       "      <td>111</td>\n",
       "      <td>6.5294117647058822</td>\n",
       "      <td>4.44</td>\n",
       "      <td>33</td>\n",
       "      <td>1.32</td>\n",
       "      <td>1.9411764705882353</td>\n",
       "    </tr>\n",
       "    <tr>\n",
       "      <th>6</th>\n",
       "      <td>SE</td>\n",
       "      <td>18-24</td>\n",
       "      <td>10</td>\n",
       "      <td>7</td>\n",
       "      <td>9</td>\n",
       "      <td>372</td>\n",
       "      <td>4</td>\n",
       "      <td>47.170161833333331</td>\n",
       "      <td>0.41666666666666669</td>\n",
       "      <td>7</td>\n",
       "      <td>0.58333333333333337</td>\n",
       "      <td>12</td>\n",
       "      <td>1.3333333333333333</td>\n",
       "      <td>57</td>\n",
       "      <td>6.333333333333333</td>\n",
       "      <td>4.75</td>\n",
       "      <td>18</td>\n",
       "      <td>1.5</td>\n",
       "      <td>2</td>\n",
       "    </tr>\n",
       "  </tbody>\n",
       "</table>\n",
       "</div>"
      ],
      "text/plain": [
       "  countryId userAgeBracket totalUsers newUsers activeUsers  \\\n",
       "0        SE        unknown        315      309         311   \n",
       "1        SE          25-34         30       26          29   \n",
       "2        SE          45-54         26       23          26   \n",
       "3        SE            65+         23       18          22   \n",
       "4        SE          35-44         19       17          19   \n",
       "5        SE          55-64         18       17          17   \n",
       "6        SE          18-24         10        7           9   \n",
       "\n",
       "  userEngagementDuration scrolledUsers averageSessionDuration  \\\n",
       "0                  25065            88     145.65285277207977   \n",
       "1                   2684             9            173.2595374   \n",
       "2                   1421             9             133.295692   \n",
       "3                   1593            12     126.62616813793103   \n",
       "4                   1203             7     267.81998942307695   \n",
       "5                    645             6     43.394766040000007   \n",
       "6                    372             4     47.170161833333331   \n",
       "\n",
       "            bounceRate engagedSessions       engagementRate sessions  \\\n",
       "0   0.3504273504273504             228   0.6495726495726496      351   \n",
       "1                 0.55              18                 0.45       40   \n",
       "2  0.29032258064516131              22  0.70967741935483875       31   \n",
       "3  0.34482758620689657              19  0.65517241379310343       29   \n",
       "4  0.73076923076923073               7  0.26923076923076922       26   \n",
       "5                  0.6              10                  0.4       25   \n",
       "6  0.41666666666666669               7  0.58333333333333337       12   \n",
       "\n",
       "      sessionsPerUser eventCount   eventCountPerUser    eventsPerSession  \\\n",
       "0  1.1286173633440515       1707  5.4887459807073951  4.8632478632478628   \n",
       "1  1.3793103448275863        217  7.4827586206896548               5.425   \n",
       "2  1.1923076923076923        153   5.884615384615385   4.935483870967742   \n",
       "3  1.3181818181818181        122  5.5454545454545459  4.2068965517241379   \n",
       "4   1.368421052631579        100  5.2631578947368425  3.8461538461538463   \n",
       "5  1.4705882352941178        111  6.5294117647058822                4.44   \n",
       "6  1.3333333333333333         57   6.333333333333333                4.75   \n",
       "\n",
       "  screenPageViews screenPageViewsPerSession screenPageViewsPerUser  \n",
       "0             521        1.4843304843304843       1.67524115755627  \n",
       "1              73                     1.825     2.5172413793103448  \n",
       "2              46        1.4838709677419355     1.7692307692307692  \n",
       "3              35        1.2068965517241379     1.5909090909090908  \n",
       "4              28        1.0769230769230769     1.4736842105263157  \n",
       "5              33                      1.32     1.9411764705882353  \n",
       "6              18                       1.5                      2  "
      ]
     },
     "execution_count": 1541,
     "metadata": {},
     "output_type": "execute_result"
    }
   ],
   "source": [
    "dfs_ssc_merged_fillNA[0]"
   ]
  },
  {
   "cell_type": "code",
   "execution_count": 1542,
   "id": "37336466-91af-49cb-8ac5-c57a3af561b4",
   "metadata": {},
   "outputs": [
    {
     "name": "stdout",
     "output_type": "stream",
     "text": [
      "output/csv/loyalty/language_dateHour_cityId_loyalty.csv\n",
      "output/csv/loyalty/languageCode_dateHour_cityId_loyalty.csv\n",
      "output/csv/loyalty/browser_dateHour_cityId_loyalty.csv\n",
      "output/csv/loyalty/deviceCategory_dateHour_cityId_loyalty.csv\n",
      "output/csv/loyalty/mobileDeviceBranding_dateHour_cityId_loyalty.csv\n",
      "output/csv/loyalty/mobileDeviceMarketingName_dateHour_cityId_loyalty.csv\n",
      "output/csv/loyalty/mobileDeviceModel_dateHour_cityId_loyalty.csv\n",
      "output/csv/loyalty/operatingSystemWithVersion_dateHour_cityId_loyalty.csv\n",
      "output/csv/loyalty/platform_dateHour_cityId_loyalty.csv\n",
      "output/csv/loyalty/screenResolution_dateHour_cityId_loyalty.csv\n",
      "output/csv/loyalty/firstUserDefaultChannelGroup_dateHour_cityId_loyalty.csv\n",
      "output/csv/loyalty/firstUserSource_dateHour_cityId_loyalty.csv\n",
      "output/csv/loyalty/sessionDefaultChannelGroup_dateHour_cityId_loyalty.csv\n",
      "output/csv/loyalty/sessionSource_dateHour_cityId_loyalty.csv\n",
      "output/csv/loyalty/eventName_dateHour_cityId_loyalty.csv\n",
      "output/csv/loyalty/pagePath_dateHour_cityId_loyalty.csv\n",
      "output/csv/loyalty/linkUrl_dateHour_cityId_loyalty.csv\n",
      "output/csv/loyalty/landingPage_dateHour_cityId_loyalty.csv\n",
      "output/csv/loyalty/pageReferrer_dateHour_cityId_loyalty.csv\n"
     ]
    }
   ],
   "source": [
    "for n in range(len(dfs_l_fillNA)):\n",
    "    csvFilePath = \"output/csv/loyalty/\"\n",
    "    fileName = dimensions[n]+\"_dateHour\"+\"_cityId\"+\"_loyalty\"+\".csv\"\n",
    "    appendDFToCSV(dfs_l_fillNA[n], csvFilePath, dimensions[n]+\"_dateHour\"+\"_cityId\"+\"_loyalty\"+\".csv\", sep)"
   ]
  },
  {
   "cell_type": "code",
   "execution_count": 1543,
   "id": "0cd9d0fd-92da-4ffa-9ad0-3a5fda348f20",
   "metadata": {},
   "outputs": [
    {
     "name": "stdout",
     "output_type": "stream",
     "text": [
      "output/csv/loyalty/userGender_date_countryId_loyalty.csv\n",
      "output/csv/loyalty/brandingInterest_date_countryId_loyalty.csv\n"
     ]
    }
   ],
   "source": [
    "for n in range(len(dfs_s_l_fillNA)):\n",
    "    csvFilePath = \"output/csv/loyalty/\"\n",
    "    fileName = dimensionsSpecial[n]+\"_date\"+\"_countryId\"+\"_loyalty\"+\".csv\"\n",
    "    appendDFToCSV(dfs_s_l_fillNA[n], csvFilePath, dimensionsSpecial[n]+\"_date\"+\"_countryId\"+\"_loyalty\"+\".csv\", sep)"
   ]
  },
  {
   "cell_type": "code",
   "execution_count": 1544,
   "id": "598046ab-ee8a-4f50-819c-c4f25ea943ae",
   "metadata": {},
   "outputs": [
    {
     "name": "stdout",
     "output_type": "stream",
     "text": [
      "output/csv/loyalty/userAgeBracket_date_loyalty.csv\n"
     ]
    }
   ],
   "source": [
    "for n in range(len(dfs_ssd_l_fillNA)):\n",
    "    csvFilePath = \"output/csv/loyalty/\"\n",
    "    fileName = dimensionsSpecialSpecial[n]+\"_date\"+\"_loyalty\"+\".csv\"\n",
    "    appendDFToCSV(dfs_ssd_l_fillNA[n], csvFilePath, dimensionsSpecialSpecial[n]+\"_date\"+\"_loyalty\"+\".csv\", sep)"
   ]
  },
  {
   "cell_type": "code",
   "execution_count": 1545,
   "id": "2ef55268-1bf0-4442-87e2-c043c818e977",
   "metadata": {},
   "outputs": [
    {
     "name": "stdout",
     "output_type": "stream",
     "text": [
      "output/csv/loyalty/userAgeBracket_countryId_loyalty.csv\n"
     ]
    }
   ],
   "source": [
    "for n in range(len(dfs_ssc_l_fillNA)):\n",
    "    csvFilePath = \"output/csv/loyalty/\"\n",
    "    fileName = dimensionsSpecialSpecial[n]+\"_countryId\"+\"_loyalty\"+\".csv\"\n",
    "    appendDFToCSV(dfs_ssc_l_fillNA[n], csvFilePath, dimensionsSpecialSpecial[n]+\"_countryId\"+\"_loyalty\"+\".csv\", sep)"
   ]
  },
  {
   "cell_type": "code",
   "execution_count": 1546,
   "id": "73755c9c-bcb7-4792-8e41-703bedc43698",
   "metadata": {},
   "outputs": [
    {
     "name": "stdout",
     "output_type": "stream",
     "text": [
      "output/csv/activity/language_dateHour_cityId_activity.csv\n",
      "output/csv/activity/languageCode_dateHour_cityId_activity.csv\n",
      "output/csv/activity/browser_dateHour_cityId_activity.csv\n",
      "output/csv/activity/deviceCategory_dateHour_cityId_activity.csv\n",
      "output/csv/activity/mobileDeviceBranding_dateHour_cityId_activity.csv\n",
      "output/csv/activity/mobileDeviceMarketingName_dateHour_cityId_activity.csv\n",
      "output/csv/activity/mobileDeviceModel_dateHour_cityId_activity.csv\n",
      "output/csv/activity/operatingSystemWithVersion_dateHour_cityId_activity.csv\n",
      "output/csv/activity/platform_dateHour_cityId_activity.csv\n",
      "output/csv/activity/screenResolution_dateHour_cityId_activity.csv\n",
      "output/csv/activity/firstUserDefaultChannelGroup_dateHour_cityId_activity.csv\n",
      "output/csv/activity/firstUserSource_dateHour_cityId_activity.csv\n",
      "output/csv/activity/sessionDefaultChannelGroup_dateHour_cityId_activity.csv\n",
      "output/csv/activity/sessionSource_dateHour_cityId_activity.csv\n",
      "output/csv/activity/eventName_dateHour_cityId_activity.csv\n",
      "output/csv/activity/pagePath_dateHour_cityId_activity.csv\n",
      "output/csv/activity/linkUrl_dateHour_cityId_activity.csv\n",
      "output/csv/activity/landingPage_dateHour_cityId_activity.csv\n",
      "output/csv/activity/pageReferrer_dateHour_cityId_activity.csv\n"
     ]
    }
   ],
   "source": [
    "for n in range(len(dfs_a_fillNA)):\n",
    "    csvFilePath = \"output/csv/activity/\"\n",
    "    fileName = dimensions[n]+\"_dateHour\"+\"_cityId\"+\"_activity\"+\".csv\"\n",
    "    appendDFToCSV(dfs_a_fillNA[n], csvFilePath, dimensions[n]+\"_dateHour\"+\"_cityId\"+\"_activity\"+\".csv\", sep)"
   ]
  },
  {
   "cell_type": "code",
   "execution_count": 1547,
   "id": "f50ce2cc-731a-4f3a-a74e-81a1e5fef168",
   "metadata": {},
   "outputs": [
    {
     "name": "stdout",
     "output_type": "stream",
     "text": [
      "output/csv/activity/userGender_date_countryId_activity.csv\n",
      "output/csv/activity/brandingInterest_date_countryId_activity.csv\n"
     ]
    }
   ],
   "source": [
    "for n in range(len(dfs_s_a_fillNA)):\n",
    "    csvFilePath = \"output/csv/activity/\"\n",
    "    fileName = dimensionsSpecial[n]+\"_date\"+\"_countryId\"+\"_activity\"+\".csv\"\n",
    "    appendDFToCSV(dfs_s_a_fillNA[n], csvFilePath, dimensionsSpecial[n]+\"_date\"+\"_countryId\"+\"_activity\"+\".csv\", sep)"
   ]
  },
  {
   "cell_type": "code",
   "execution_count": 1548,
   "id": "32c72c6f-3f3d-4368-840b-6431d374d1a1",
   "metadata": {},
   "outputs": [
    {
     "name": "stdout",
     "output_type": "stream",
     "text": [
      "output/csv/activity/userAgeBracket_date_activity.csv\n"
     ]
    }
   ],
   "source": [
    "for n in range(len(dfs_ssd_a_fillNA)):\n",
    "    csvFilePath = \"output/csv/activity/\"\n",
    "    fileName = dimensionsSpecialSpecial[n]+\"_date\"+\"_activity\"+\".csv\"\n",
    "    appendDFToCSV(dfs_ssd_a_fillNA[n], csvFilePath, dimensionsSpecialSpecial[n]+\"_date\"+\"_activity\"+\".csv\", sep)"
   ]
  },
  {
   "cell_type": "code",
   "execution_count": 1549,
   "id": "03f49d85-b9c3-4e12-b29b-e7015803d468",
   "metadata": {},
   "outputs": [
    {
     "name": "stdout",
     "output_type": "stream",
     "text": [
      "output/csv/activity/userAgeBracket_countryId_activity.csv\n"
     ]
    }
   ],
   "source": [
    "for n in range(len(dfs_ssc_a_fillNA)):\n",
    "    csvFilePath = \"output/csv/activity/\"\n",
    "    fileName = dimensionsSpecialSpecial[n]+\"_countryId\"+\"_activity\"+\".csv\"\n",
    "    appendDFToCSV(dfs_ssc_a_fillNA[n], csvFilePath, dimensionsSpecialSpecial[n]+\"_countryId\"+\"_activity\"+\".csv\", sep)"
   ]
  },
  {
   "cell_type": "markdown",
   "id": "e40d4be4-9d66-4d65-a1d6-de726f345a5e",
   "metadata": {
    "tags": []
   },
   "source": [
    "## Date and Geography tables"
   ]
  },
  {
   "cell_type": "code",
   "execution_count": 1550,
   "id": "a5aa7794-b902-426e-b250-33ae10c19fb3",
   "metadata": {},
   "outputs": [
    {
     "name": "stdout",
     "output_type": "stream",
     "text": [
      "CPU times: user 1e+03 ns, sys: 1 µs, total: 2 µs\n",
      "Wall time: 3.1 µs\n"
     ]
    }
   ],
   "source": [
    "%%time\n",
    "\n",
    "#start_date = \"2022-01-01\"\n",
    "#end_date = \"2022-01-31\""
   ]
  },
  {
   "cell_type": "code",
   "execution_count": 1551,
   "id": "b7033483-cf2c-4b80-9924-e5021f504c72",
   "metadata": {},
   "outputs": [
    {
     "name": "stdout",
     "output_type": "stream",
     "text": [
      "CPU times: user 55 ms, sys: 3.69 ms, total: 58.7 ms\n",
      "Wall time: 386 ms\n"
     ]
    }
   ],
   "source": [
    "%%time\n",
    "\n",
    "# Geography List\n",
    "geoList = ['continentID','continent','countryId','country','region','cityId','city']\n",
    "\n",
    "# Empty list to fill with dataframes\n",
    "\n",
    "report_request = gp.RunReportRequest(\n",
    "    property=f\"properties/{property_id}\",\n",
    "     dimensions=[\n",
    "         gp.Dimension(name=geoList[0]),\n",
    "         gp.Dimension(name=geoList[1]),\n",
    "         gp.Dimension(name=geoList[2]),\n",
    "         gp.Dimension(name=geoList[3]),\n",
    "         gp.Dimension(name=geoList[4]),\n",
    "         gp.Dimension(name=geoList[5]),\n",
    "         gp.Dimension(name=geoList[6]),\n",
    "       ],\n",
    "       metrics=[\n",
    "        ],\n",
    "        date_ranges=[gp.DateRange(start_date=start_date, end_date=end_date)],\n",
    "    )\n",
    "    \n",
    "# Perform query and append to list\n",
    "df_geo = gp.query(service_account, report_request, report_type=\"report\")"
   ]
  },
  {
   "cell_type": "code",
   "execution_count": 1552,
   "id": "43b5f5a8-43f3-4fb1-a70f-157eb71a0092",
   "metadata": {},
   "outputs": [
    {
     "name": "stdout",
     "output_type": "stream",
     "text": [
      "CPU times: user 75.6 ms, sys: 4.22 ms, total: 79.8 ms\n",
      "Wall time: 688 ms\n"
     ]
    }
   ],
   "source": [
    "%%time\n",
    "\n",
    "# dateList is all dimensions\n",
    "dateList = [\"dateHour\"]\n",
    "\n",
    "# Empty list to fill with dataframes\n",
    "\n",
    "report_request = gp.RunReportRequest(\n",
    "    property=f\"properties/{property_id}\",\n",
    "     dimensions=[\n",
    "         gp.Dimension(name=dateList[0]),\n",
    "       ],\n",
    "       metrics=[\n",
    "        ],\n",
    "        date_ranges=[gp.DateRange(start_date=start_date, end_date=end_date)],\n",
    "    )\n",
    "\n",
    "# Perform query and append to list\n",
    "df_dateHour = gp.query(service_account, report_request, report_type=\"report\")"
   ]
  },
  {
   "cell_type": "code",
   "execution_count": 1553,
   "id": "d80e64eb-8015-47b5-aac6-100e7d84d997",
   "metadata": {},
   "outputs": [],
   "source": [
    "df_dateHour = dates_funcs.sortOut_dateHour(df_dateHour)"
   ]
  },
  {
   "cell_type": "code",
   "execution_count": 1554,
   "id": "1854c1e9-f736-447e-ae02-e3f832904608",
   "metadata": {},
   "outputs": [
    {
     "data": {
      "text/html": [
       "<div>\n",
       "<style scoped>\n",
       "    .dataframe tbody tr th:only-of-type {\n",
       "        vertical-align: middle;\n",
       "    }\n",
       "\n",
       "    .dataframe tbody tr th {\n",
       "        vertical-align: top;\n",
       "    }\n",
       "\n",
       "    .dataframe thead th {\n",
       "        text-align: right;\n",
       "    }\n",
       "</style>\n",
       "<table border=\"1\" class=\"dataframe\">\n",
       "  <thead>\n",
       "    <tr style=\"text-align: right;\">\n",
       "      <th></th>\n",
       "      <th>continentID</th>\n",
       "      <th>continent</th>\n",
       "      <th>countryId</th>\n",
       "      <th>country</th>\n",
       "      <th>region</th>\n",
       "      <th>cityId</th>\n",
       "      <th>city</th>\n",
       "    </tr>\n",
       "  </thead>\n",
       "  <tbody>\n",
       "    <tr>\n",
       "      <th>0</th>\n",
       "      <td>002</td>\n",
       "      <td>Africa</td>\n",
       "      <td>KE</td>\n",
       "      <td>Kenya</td>\n",
       "      <td>Nairobi County</td>\n",
       "      <td>1009824</td>\n",
       "      <td>Nairobi</td>\n",
       "    </tr>\n",
       "    <tr>\n",
       "      <th>1</th>\n",
       "      <td>002</td>\n",
       "      <td>Africa</td>\n",
       "      <td>TZ</td>\n",
       "      <td>Tanzania</td>\n",
       "      <td>Unguja North Region</td>\n",
       "      <td>(not set)</td>\n",
       "      <td>(not set)</td>\n",
       "    </tr>\n",
       "    <tr>\n",
       "      <th>2</th>\n",
       "      <td>009</td>\n",
       "      <td>Oceania</td>\n",
       "      <td>AU</td>\n",
       "      <td>Australia</td>\n",
       "      <td>New South Wales</td>\n",
       "      <td>1000594</td>\n",
       "      <td>Central Coast</td>\n",
       "    </tr>\n",
       "    <tr>\n",
       "      <th>3</th>\n",
       "      <td>019</td>\n",
       "      <td>Americas</td>\n",
       "      <td>US</td>\n",
       "      <td>United States</td>\n",
       "      <td>(not set)</td>\n",
       "      <td>(not set)</td>\n",
       "      <td>(not set)</td>\n",
       "    </tr>\n",
       "    <tr>\n",
       "      <th>4</th>\n",
       "      <td>019</td>\n",
       "      <td>Americas</td>\n",
       "      <td>US</td>\n",
       "      <td>United States</td>\n",
       "      <td>Hawaii</td>\n",
       "      <td>1015618</td>\n",
       "      <td>Wailuku</td>\n",
       "    </tr>\n",
       "    <tr>\n",
       "      <th>...</th>\n",
       "      <td>...</td>\n",
       "      <td>...</td>\n",
       "      <td>...</td>\n",
       "      <td>...</td>\n",
       "      <td>...</td>\n",
       "      <td>...</td>\n",
       "      <td>...</td>\n",
       "    </tr>\n",
       "    <tr>\n",
       "      <th>132</th>\n",
       "      <td>150</td>\n",
       "      <td>Europe</td>\n",
       "      <td>SE</td>\n",
       "      <td>Sweden</td>\n",
       "      <td>Vastra Gotaland County</td>\n",
       "      <td>1012541</td>\n",
       "      <td>Lysekil</td>\n",
       "    </tr>\n",
       "    <tr>\n",
       "      <th>133</th>\n",
       "      <td>150</td>\n",
       "      <td>Europe</td>\n",
       "      <td>SE</td>\n",
       "      <td>Sweden</td>\n",
       "      <td>Vastra Gotaland County</td>\n",
       "      <td>1012566</td>\n",
       "      <td>Stenungsund</td>\n",
       "    </tr>\n",
       "    <tr>\n",
       "      <th>134</th>\n",
       "      <td>150</td>\n",
       "      <td>Europe</td>\n",
       "      <td>SE</td>\n",
       "      <td>Sweden</td>\n",
       "      <td>Vastra Gotaland County</td>\n",
       "      <td>1012568</td>\n",
       "      <td>Svenljunga</td>\n",
       "    </tr>\n",
       "    <tr>\n",
       "      <th>135</th>\n",
       "      <td>150</td>\n",
       "      <td>Europe</td>\n",
       "      <td>SE</td>\n",
       "      <td>Sweden</td>\n",
       "      <td>Vastra Gotaland County</td>\n",
       "      <td>1012581</td>\n",
       "      <td>Vanersborg</td>\n",
       "    </tr>\n",
       "    <tr>\n",
       "      <th>136</th>\n",
       "      <td>150</td>\n",
       "      <td>Europe</td>\n",
       "      <td>SE</td>\n",
       "      <td>Sweden</td>\n",
       "      <td>Vastra Gotaland County</td>\n",
       "      <td>9067778</td>\n",
       "      <td>Fargelanda</td>\n",
       "    </tr>\n",
       "  </tbody>\n",
       "</table>\n",
       "<p>137 rows × 7 columns</p>\n",
       "</div>"
      ],
      "text/plain": [
       "    continentID continent countryId        country                  region  \\\n",
       "0           002    Africa        KE          Kenya          Nairobi County   \n",
       "1           002    Africa        TZ       Tanzania     Unguja North Region   \n",
       "2           009   Oceania        AU      Australia         New South Wales   \n",
       "3           019  Americas        US  United States               (not set)   \n",
       "4           019  Americas        US  United States                  Hawaii   \n",
       "..          ...       ...       ...            ...                     ...   \n",
       "132         150    Europe        SE         Sweden  Vastra Gotaland County   \n",
       "133         150    Europe        SE         Sweden  Vastra Gotaland County   \n",
       "134         150    Europe        SE         Sweden  Vastra Gotaland County   \n",
       "135         150    Europe        SE         Sweden  Vastra Gotaland County   \n",
       "136         150    Europe        SE         Sweden  Vastra Gotaland County   \n",
       "\n",
       "        cityId           city  \n",
       "0      1009824        Nairobi  \n",
       "1    (not set)      (not set)  \n",
       "2      1000594  Central Coast  \n",
       "3    (not set)      (not set)  \n",
       "4      1015618        Wailuku  \n",
       "..         ...            ...  \n",
       "132    1012541        Lysekil  \n",
       "133    1012566    Stenungsund  \n",
       "134    1012568     Svenljunga  \n",
       "135    1012581     Vanersborg  \n",
       "136    9067778     Fargelanda  \n",
       "\n",
       "[137 rows x 7 columns]"
      ]
     },
     "execution_count": 1554,
     "metadata": {},
     "output_type": "execute_result"
    }
   ],
   "source": [
    "df_geo"
   ]
  },
  {
   "cell_type": "code",
   "execution_count": 1555,
   "id": "5d193e48-ff3e-4fe9-b0c2-0afe4462007f",
   "metadata": {},
   "outputs": [
    {
     "data": {
      "text/html": [
       "<div>\n",
       "<style scoped>\n",
       "    .dataframe tbody tr th:only-of-type {\n",
       "        vertical-align: middle;\n",
       "    }\n",
       "\n",
       "    .dataframe tbody tr th {\n",
       "        vertical-align: top;\n",
       "    }\n",
       "\n",
       "    .dataframe thead th {\n",
       "        text-align: right;\n",
       "    }\n",
       "</style>\n",
       "<table border=\"1\" class=\"dataframe\">\n",
       "  <thead>\n",
       "    <tr style=\"text-align: right;\">\n",
       "      <th></th>\n",
       "      <th>dateTime</th>\n",
       "      <th>dateFull</th>\n",
       "      <th>year</th>\n",
       "      <th>quarter</th>\n",
       "      <th>month</th>\n",
       "      <th>monthName</th>\n",
       "      <th>week</th>\n",
       "      <th>weekday</th>\n",
       "      <th>weekdayName</th>\n",
       "      <th>time</th>\n",
       "      <th>hour</th>\n",
       "    </tr>\n",
       "  </thead>\n",
       "  <tbody>\n",
       "    <tr>\n",
       "      <th>0</th>\n",
       "      <td>2023-01-08 02:00:00</td>\n",
       "      <td>2023-01-08</td>\n",
       "      <td>2023</td>\n",
       "      <td>1</td>\n",
       "      <td>1</td>\n",
       "      <td>January</td>\n",
       "      <td>1</td>\n",
       "      <td>7</td>\n",
       "      <td>Sunday</td>\n",
       "      <td>02:00:00</td>\n",
       "      <td>2</td>\n",
       "    </tr>\n",
       "    <tr>\n",
       "      <th>1</th>\n",
       "      <td>2023-01-08 08:00:00</td>\n",
       "      <td>2023-01-08</td>\n",
       "      <td>2023</td>\n",
       "      <td>1</td>\n",
       "      <td>1</td>\n",
       "      <td>January</td>\n",
       "      <td>1</td>\n",
       "      <td>7</td>\n",
       "      <td>Sunday</td>\n",
       "      <td>08:00:00</td>\n",
       "      <td>8</td>\n",
       "    </tr>\n",
       "    <tr>\n",
       "      <th>2</th>\n",
       "      <td>2023-01-08 09:00:00</td>\n",
       "      <td>2023-01-08</td>\n",
       "      <td>2023</td>\n",
       "      <td>1</td>\n",
       "      <td>1</td>\n",
       "      <td>January</td>\n",
       "      <td>1</td>\n",
       "      <td>7</td>\n",
       "      <td>Sunday</td>\n",
       "      <td>09:00:00</td>\n",
       "      <td>9</td>\n",
       "    </tr>\n",
       "    <tr>\n",
       "      <th>3</th>\n",
       "      <td>2023-01-08 10:00:00</td>\n",
       "      <td>2023-01-08</td>\n",
       "      <td>2023</td>\n",
       "      <td>1</td>\n",
       "      <td>1</td>\n",
       "      <td>January</td>\n",
       "      <td>1</td>\n",
       "      <td>7</td>\n",
       "      <td>Sunday</td>\n",
       "      <td>10:00:00</td>\n",
       "      <td>10</td>\n",
       "    </tr>\n",
       "    <tr>\n",
       "      <th>4</th>\n",
       "      <td>2023-01-08 11:00:00</td>\n",
       "      <td>2023-01-08</td>\n",
       "      <td>2023</td>\n",
       "      <td>1</td>\n",
       "      <td>1</td>\n",
       "      <td>January</td>\n",
       "      <td>1</td>\n",
       "      <td>7</td>\n",
       "      <td>Sunday</td>\n",
       "      <td>11:00:00</td>\n",
       "      <td>11</td>\n",
       "    </tr>\n",
       "    <tr>\n",
       "      <th>...</th>\n",
       "      <td>...</td>\n",
       "      <td>...</td>\n",
       "      <td>...</td>\n",
       "      <td>...</td>\n",
       "      <td>...</td>\n",
       "      <td>...</td>\n",
       "      <td>...</td>\n",
       "      <td>...</td>\n",
       "      <td>...</td>\n",
       "      <td>...</td>\n",
       "      <td>...</td>\n",
       "    </tr>\n",
       "    <tr>\n",
       "      <th>141</th>\n",
       "      <td>2023-01-14 19:00:00</td>\n",
       "      <td>2023-01-14</td>\n",
       "      <td>2023</td>\n",
       "      <td>1</td>\n",
       "      <td>1</td>\n",
       "      <td>January</td>\n",
       "      <td>2</td>\n",
       "      <td>6</td>\n",
       "      <td>Saturday</td>\n",
       "      <td>19:00:00</td>\n",
       "      <td>19</td>\n",
       "    </tr>\n",
       "    <tr>\n",
       "      <th>142</th>\n",
       "      <td>2023-01-14 20:00:00</td>\n",
       "      <td>2023-01-14</td>\n",
       "      <td>2023</td>\n",
       "      <td>1</td>\n",
       "      <td>1</td>\n",
       "      <td>January</td>\n",
       "      <td>2</td>\n",
       "      <td>6</td>\n",
       "      <td>Saturday</td>\n",
       "      <td>20:00:00</td>\n",
       "      <td>20</td>\n",
       "    </tr>\n",
       "    <tr>\n",
       "      <th>143</th>\n",
       "      <td>2023-01-14 21:00:00</td>\n",
       "      <td>2023-01-14</td>\n",
       "      <td>2023</td>\n",
       "      <td>1</td>\n",
       "      <td>1</td>\n",
       "      <td>January</td>\n",
       "      <td>2</td>\n",
       "      <td>6</td>\n",
       "      <td>Saturday</td>\n",
       "      <td>21:00:00</td>\n",
       "      <td>21</td>\n",
       "    </tr>\n",
       "    <tr>\n",
       "      <th>144</th>\n",
       "      <td>2023-01-14 22:00:00</td>\n",
       "      <td>2023-01-14</td>\n",
       "      <td>2023</td>\n",
       "      <td>1</td>\n",
       "      <td>1</td>\n",
       "      <td>January</td>\n",
       "      <td>2</td>\n",
       "      <td>6</td>\n",
       "      <td>Saturday</td>\n",
       "      <td>22:00:00</td>\n",
       "      <td>22</td>\n",
       "    </tr>\n",
       "    <tr>\n",
       "      <th>145</th>\n",
       "      <td>2023-01-14 23:00:00</td>\n",
       "      <td>2023-01-14</td>\n",
       "      <td>2023</td>\n",
       "      <td>1</td>\n",
       "      <td>1</td>\n",
       "      <td>January</td>\n",
       "      <td>2</td>\n",
       "      <td>6</td>\n",
       "      <td>Saturday</td>\n",
       "      <td>23:00:00</td>\n",
       "      <td>23</td>\n",
       "    </tr>\n",
       "  </tbody>\n",
       "</table>\n",
       "<p>146 rows × 11 columns</p>\n",
       "</div>"
      ],
      "text/plain": [
       "               dateTime    dateFull  year  quarter  month monthName  week  \\\n",
       "0   2023-01-08 02:00:00  2023-01-08  2023        1      1   January     1   \n",
       "1   2023-01-08 08:00:00  2023-01-08  2023        1      1   January     1   \n",
       "2   2023-01-08 09:00:00  2023-01-08  2023        1      1   January     1   \n",
       "3   2023-01-08 10:00:00  2023-01-08  2023        1      1   January     1   \n",
       "4   2023-01-08 11:00:00  2023-01-08  2023        1      1   January     1   \n",
       "..                  ...         ...   ...      ...    ...       ...   ...   \n",
       "141 2023-01-14 19:00:00  2023-01-14  2023        1      1   January     2   \n",
       "142 2023-01-14 20:00:00  2023-01-14  2023        1      1   January     2   \n",
       "143 2023-01-14 21:00:00  2023-01-14  2023        1      1   January     2   \n",
       "144 2023-01-14 22:00:00  2023-01-14  2023        1      1   January     2   \n",
       "145 2023-01-14 23:00:00  2023-01-14  2023        1      1   January     2   \n",
       "\n",
       "     weekday weekdayName      time  hour  \n",
       "0          7      Sunday  02:00:00     2  \n",
       "1          7      Sunday  08:00:00     8  \n",
       "2          7      Sunday  09:00:00     9  \n",
       "3          7      Sunday  10:00:00    10  \n",
       "4          7      Sunday  11:00:00    11  \n",
       "..       ...         ...       ...   ...  \n",
       "141        6    Saturday  19:00:00    19  \n",
       "142        6    Saturday  20:00:00    20  \n",
       "143        6    Saturday  21:00:00    21  \n",
       "144        6    Saturday  22:00:00    22  \n",
       "145        6    Saturday  23:00:00    23  \n",
       "\n",
       "[146 rows x 11 columns]"
      ]
     },
     "execution_count": 1555,
     "metadata": {},
     "output_type": "execute_result"
    }
   ],
   "source": [
    "df_dateHour"
   ]
  },
  {
   "cell_type": "code",
   "execution_count": 1556,
   "id": "6d4cebec-0009-43dc-99cf-c3345f7a8a86",
   "metadata": {},
   "outputs": [
    {
     "name": "stdout",
     "output_type": "stream",
     "text": [
      "(137, 7)\n"
     ]
    }
   ],
   "source": [
    "df_geoTest = df_geo.replace('', np.nan)\n",
    "df_geoTest = df_geoTest.replace('(not set)', np.nan)\n",
    "print(df_geoTest.shape)"
   ]
  },
  {
   "cell_type": "code",
   "execution_count": 1557,
   "id": "0747884f-197f-4a36-9847-c8012f5399a5",
   "metadata": {},
   "outputs": [
    {
     "name": "stdout",
     "output_type": "stream",
     "text": [
      "(146, 11)\n"
     ]
    }
   ],
   "source": [
    "df_dateHourTest = df_dateHour.replace('', np.nan)\n",
    "df_dateHourTest = df_dateHourTest.replace('(not set)', np.nan)\n",
    "print(df_dateHourTest.shape)"
   ]
  },
  {
   "cell_type": "code",
   "execution_count": 1558,
   "id": "848a24c2-58b5-4229-a0f6-1f017077b461",
   "metadata": {},
   "outputs": [
    {
     "data": {
      "text/html": [
       "<div>\n",
       "<style scoped>\n",
       "    .dataframe tbody tr th:only-of-type {\n",
       "        vertical-align: middle;\n",
       "    }\n",
       "\n",
       "    .dataframe tbody tr th {\n",
       "        vertical-align: top;\n",
       "    }\n",
       "\n",
       "    .dataframe thead th {\n",
       "        text-align: right;\n",
       "    }\n",
       "</style>\n",
       "<table border=\"1\" class=\"dataframe\">\n",
       "  <thead>\n",
       "    <tr style=\"text-align: right;\">\n",
       "      <th></th>\n",
       "      <th>continentID</th>\n",
       "      <th>continent</th>\n",
       "      <th>countryId</th>\n",
       "      <th>country</th>\n",
       "      <th>region</th>\n",
       "      <th>cityId</th>\n",
       "      <th>city</th>\n",
       "    </tr>\n",
       "  </thead>\n",
       "  <tbody>\n",
       "    <tr>\n",
       "      <th>0</th>\n",
       "      <td>002</td>\n",
       "      <td>Africa</td>\n",
       "      <td>KE</td>\n",
       "      <td>Kenya</td>\n",
       "      <td>Nairobi County</td>\n",
       "      <td>1009824</td>\n",
       "      <td>Nairobi</td>\n",
       "    </tr>\n",
       "    <tr>\n",
       "      <th>1</th>\n",
       "      <td>002</td>\n",
       "      <td>Africa</td>\n",
       "      <td>TZ</td>\n",
       "      <td>Tanzania</td>\n",
       "      <td>Unguja North Region</td>\n",
       "      <td>NaN</td>\n",
       "      <td>NaN</td>\n",
       "    </tr>\n",
       "    <tr>\n",
       "      <th>2</th>\n",
       "      <td>009</td>\n",
       "      <td>Oceania</td>\n",
       "      <td>AU</td>\n",
       "      <td>Australia</td>\n",
       "      <td>New South Wales</td>\n",
       "      <td>1000594</td>\n",
       "      <td>Central Coast</td>\n",
       "    </tr>\n",
       "    <tr>\n",
       "      <th>3</th>\n",
       "      <td>019</td>\n",
       "      <td>Americas</td>\n",
       "      <td>US</td>\n",
       "      <td>United States</td>\n",
       "      <td>NaN</td>\n",
       "      <td>NaN</td>\n",
       "      <td>NaN</td>\n",
       "    </tr>\n",
       "    <tr>\n",
       "      <th>4</th>\n",
       "      <td>019</td>\n",
       "      <td>Americas</td>\n",
       "      <td>US</td>\n",
       "      <td>United States</td>\n",
       "      <td>Hawaii</td>\n",
       "      <td>1015618</td>\n",
       "      <td>Wailuku</td>\n",
       "    </tr>\n",
       "    <tr>\n",
       "      <th>5</th>\n",
       "      <td>019</td>\n",
       "      <td>Americas</td>\n",
       "      <td>US</td>\n",
       "      <td>United States</td>\n",
       "      <td>New Jersey</td>\n",
       "      <td>1022418</td>\n",
       "      <td>South Plainfield</td>\n",
       "    </tr>\n",
       "    <tr>\n",
       "      <th>6</th>\n",
       "      <td>019</td>\n",
       "      <td>Americas</td>\n",
       "      <td>US</td>\n",
       "      <td>United States</td>\n",
       "      <td>New York</td>\n",
       "      <td>1023191</td>\n",
       "      <td>New York</td>\n",
       "    </tr>\n",
       "    <tr>\n",
       "      <th>7</th>\n",
       "      <td>019</td>\n",
       "      <td>Americas</td>\n",
       "      <td>US</td>\n",
       "      <td>United States</td>\n",
       "      <td>North Carolina</td>\n",
       "      <td>1021111</td>\n",
       "      <td>Forest City</td>\n",
       "    </tr>\n",
       "    <tr>\n",
       "      <th>8</th>\n",
       "      <td>019</td>\n",
       "      <td>Americas</td>\n",
       "      <td>US</td>\n",
       "      <td>United States</td>\n",
       "      <td>Ohio</td>\n",
       "      <td>1023616</td>\n",
       "      <td>Celina</td>\n",
       "    </tr>\n",
       "    <tr>\n",
       "      <th>9</th>\n",
       "      <td>019</td>\n",
       "      <td>Americas</td>\n",
       "      <td>US</td>\n",
       "      <td>United States</td>\n",
       "      <td>Ohio</td>\n",
       "      <td>1023640</td>\n",
       "      <td>Columbus</td>\n",
       "    </tr>\n",
       "    <tr>\n",
       "      <th>10</th>\n",
       "      <td>019</td>\n",
       "      <td>Americas</td>\n",
       "      <td>US</td>\n",
       "      <td>United States</td>\n",
       "      <td>Virginia</td>\n",
       "      <td>1027028</td>\n",
       "      <td>Ashburn</td>\n",
       "    </tr>\n",
       "    <tr>\n",
       "      <th>11</th>\n",
       "      <td>142</td>\n",
       "      <td>Asia</td>\n",
       "      <td>JP</td>\n",
       "      <td>Japan</td>\n",
       "      <td>NaN</td>\n",
       "      <td>NaN</td>\n",
       "      <td>NaN</td>\n",
       "    </tr>\n",
       "    <tr>\n",
       "      <th>12</th>\n",
       "      <td>142</td>\n",
       "      <td>Asia</td>\n",
       "      <td>JP</td>\n",
       "      <td>Japan</td>\n",
       "      <td>Tokyo</td>\n",
       "      <td>NaN</td>\n",
       "      <td>NaN</td>\n",
       "    </tr>\n",
       "    <tr>\n",
       "      <th>13</th>\n",
       "      <td>142</td>\n",
       "      <td>Asia</td>\n",
       "      <td>MV</td>\n",
       "      <td>Maldives</td>\n",
       "      <td>NaN</td>\n",
       "      <td>9075811</td>\n",
       "      <td>Male</td>\n",
       "    </tr>\n",
       "    <tr>\n",
       "      <th>14</th>\n",
       "      <td>150</td>\n",
       "      <td>Europe</td>\n",
       "      <td>AT</td>\n",
       "      <td>Austria</td>\n",
       "      <td>Vienna</td>\n",
       "      <td>1000997</td>\n",
       "      <td>Vienna</td>\n",
       "    </tr>\n",
       "    <tr>\n",
       "      <th>15</th>\n",
       "      <td>150</td>\n",
       "      <td>Europe</td>\n",
       "      <td>CH</td>\n",
       "      <td>Switzerland</td>\n",
       "      <td>Zurich</td>\n",
       "      <td>1003284</td>\n",
       "      <td>Thalwil</td>\n",
       "    </tr>\n",
       "    <tr>\n",
       "      <th>16</th>\n",
       "      <td>150</td>\n",
       "      <td>Europe</td>\n",
       "      <td>DE</td>\n",
       "      <td>Germany</td>\n",
       "      <td>Hessen</td>\n",
       "      <td>1004363</td>\n",
       "      <td>Frankfurt</td>\n",
       "    </tr>\n",
       "    <tr>\n",
       "      <th>17</th>\n",
       "      <td>150</td>\n",
       "      <td>Europe</td>\n",
       "      <td>DK</td>\n",
       "      <td>Denmark</td>\n",
       "      <td>Capital Region of Denmark</td>\n",
       "      <td>1005010</td>\n",
       "      <td>Copenhagen</td>\n",
       "    </tr>\n",
       "    <tr>\n",
       "      <th>18</th>\n",
       "      <td>150</td>\n",
       "      <td>Europe</td>\n",
       "      <td>FI</td>\n",
       "      <td>Finland</td>\n",
       "      <td>Northern Ostrobothnia</td>\n",
       "      <td>1005766</td>\n",
       "      <td>Oulu</td>\n",
       "    </tr>\n",
       "    <tr>\n",
       "      <th>19</th>\n",
       "      <td>150</td>\n",
       "      <td>Europe</td>\n",
       "      <td>FI</td>\n",
       "      <td>Finland</td>\n",
       "      <td>Uusimaa</td>\n",
       "      <td>1005582</td>\n",
       "      <td>Helsinki</td>\n",
       "    </tr>\n",
       "    <tr>\n",
       "      <th>20</th>\n",
       "      <td>150</td>\n",
       "      <td>Europe</td>\n",
       "      <td>GB</td>\n",
       "      <td>United Kingdom</td>\n",
       "      <td>England</td>\n",
       "      <td>1006864</td>\n",
       "      <td>Leeds</td>\n",
       "    </tr>\n",
       "    <tr>\n",
       "      <th>21</th>\n",
       "      <td>150</td>\n",
       "      <td>Europe</td>\n",
       "      <td>GB</td>\n",
       "      <td>United Kingdom</td>\n",
       "      <td>England</td>\n",
       "      <td>1006886</td>\n",
       "      <td>London</td>\n",
       "    </tr>\n",
       "    <tr>\n",
       "      <th>22</th>\n",
       "      <td>150</td>\n",
       "      <td>Europe</td>\n",
       "      <td>GB</td>\n",
       "      <td>United Kingdom</td>\n",
       "      <td>Scotland</td>\n",
       "      <td>1007336</td>\n",
       "      <td>Glasgow</td>\n",
       "    </tr>\n",
       "    <tr>\n",
       "      <th>23</th>\n",
       "      <td>150</td>\n",
       "      <td>Europe</td>\n",
       "      <td>IE</td>\n",
       "      <td>Ireland</td>\n",
       "      <td>County Dublin</td>\n",
       "      <td>1007850</td>\n",
       "      <td>Dublin</td>\n",
       "    </tr>\n",
       "    <tr>\n",
       "      <th>24</th>\n",
       "      <td>150</td>\n",
       "      <td>Europe</td>\n",
       "      <td>IT</td>\n",
       "      <td>Italy</td>\n",
       "      <td>Lombardy</td>\n",
       "      <td>1008463</td>\n",
       "      <td>Milan</td>\n",
       "    </tr>\n",
       "    <tr>\n",
       "      <th>25</th>\n",
       "      <td>150</td>\n",
       "      <td>Europe</td>\n",
       "      <td>NO</td>\n",
       "      <td>Norway</td>\n",
       "      <td>Nordland</td>\n",
       "      <td>9047411</td>\n",
       "      <td>Rana Municipality</td>\n",
       "    </tr>\n",
       "    <tr>\n",
       "      <th>26</th>\n",
       "      <td>150</td>\n",
       "      <td>Europe</td>\n",
       "      <td>NO</td>\n",
       "      <td>Norway</td>\n",
       "      <td>Vestfold og Telemark</td>\n",
       "      <td>9047326</td>\n",
       "      <td>Horten</td>\n",
       "    </tr>\n",
       "    <tr>\n",
       "      <th>27</th>\n",
       "      <td>150</td>\n",
       "      <td>Europe</td>\n",
       "      <td>NO</td>\n",
       "      <td>Norway</td>\n",
       "      <td>Vestland</td>\n",
       "      <td>9047251</td>\n",
       "      <td>Bergen Municipality</td>\n",
       "    </tr>\n",
       "    <tr>\n",
       "      <th>28</th>\n",
       "      <td>150</td>\n",
       "      <td>Europe</td>\n",
       "      <td>PL</td>\n",
       "      <td>Poland</td>\n",
       "      <td>NaN</td>\n",
       "      <td>NaN</td>\n",
       "      <td>NaN</td>\n",
       "    </tr>\n",
       "    <tr>\n",
       "      <th>29</th>\n",
       "      <td>150</td>\n",
       "      <td>Europe</td>\n",
       "      <td>PL</td>\n",
       "      <td>Poland</td>\n",
       "      <td>Masovian Voivodeship</td>\n",
       "      <td>1011419</td>\n",
       "      <td>Warsaw</td>\n",
       "    </tr>\n",
       "  </tbody>\n",
       "</table>\n",
       "</div>"
      ],
      "text/plain": [
       "   continentID continent countryId         country                     region  \\\n",
       "0          002    Africa        KE           Kenya             Nairobi County   \n",
       "1          002    Africa        TZ        Tanzania        Unguja North Region   \n",
       "2          009   Oceania        AU       Australia            New South Wales   \n",
       "3          019  Americas        US   United States                        NaN   \n",
       "4          019  Americas        US   United States                     Hawaii   \n",
       "5          019  Americas        US   United States                 New Jersey   \n",
       "6          019  Americas        US   United States                   New York   \n",
       "7          019  Americas        US   United States             North Carolina   \n",
       "8          019  Americas        US   United States                       Ohio   \n",
       "9          019  Americas        US   United States                       Ohio   \n",
       "10         019  Americas        US   United States                   Virginia   \n",
       "11         142      Asia        JP           Japan                        NaN   \n",
       "12         142      Asia        JP           Japan                      Tokyo   \n",
       "13         142      Asia        MV        Maldives                        NaN   \n",
       "14         150    Europe        AT         Austria                     Vienna   \n",
       "15         150    Europe        CH     Switzerland                     Zurich   \n",
       "16         150    Europe        DE         Germany                     Hessen   \n",
       "17         150    Europe        DK         Denmark  Capital Region of Denmark   \n",
       "18         150    Europe        FI         Finland      Northern Ostrobothnia   \n",
       "19         150    Europe        FI         Finland                    Uusimaa   \n",
       "20         150    Europe        GB  United Kingdom                    England   \n",
       "21         150    Europe        GB  United Kingdom                    England   \n",
       "22         150    Europe        GB  United Kingdom                   Scotland   \n",
       "23         150    Europe        IE         Ireland              County Dublin   \n",
       "24         150    Europe        IT           Italy                   Lombardy   \n",
       "25         150    Europe        NO          Norway                   Nordland   \n",
       "26         150    Europe        NO          Norway       Vestfold og Telemark   \n",
       "27         150    Europe        NO          Norway                   Vestland   \n",
       "28         150    Europe        PL          Poland                        NaN   \n",
       "29         150    Europe        PL          Poland       Masovian Voivodeship   \n",
       "\n",
       "     cityId                 city  \n",
       "0   1009824              Nairobi  \n",
       "1       NaN                  NaN  \n",
       "2   1000594        Central Coast  \n",
       "3       NaN                  NaN  \n",
       "4   1015618              Wailuku  \n",
       "5   1022418     South Plainfield  \n",
       "6   1023191             New York  \n",
       "7   1021111          Forest City  \n",
       "8   1023616               Celina  \n",
       "9   1023640             Columbus  \n",
       "10  1027028              Ashburn  \n",
       "11      NaN                  NaN  \n",
       "12      NaN                  NaN  \n",
       "13  9075811                 Male  \n",
       "14  1000997               Vienna  \n",
       "15  1003284              Thalwil  \n",
       "16  1004363            Frankfurt  \n",
       "17  1005010           Copenhagen  \n",
       "18  1005766                 Oulu  \n",
       "19  1005582             Helsinki  \n",
       "20  1006864                Leeds  \n",
       "21  1006886               London  \n",
       "22  1007336              Glasgow  \n",
       "23  1007850               Dublin  \n",
       "24  1008463                Milan  \n",
       "25  9047411    Rana Municipality  \n",
       "26  9047326               Horten  \n",
       "27  9047251  Bergen Municipality  \n",
       "28      NaN                  NaN  \n",
       "29  1011419               Warsaw  "
      ]
     },
     "execution_count": 1558,
     "metadata": {},
     "output_type": "execute_result"
    }
   ],
   "source": [
    "df_geoTest.head(30)"
   ]
  },
  {
   "cell_type": "code",
   "execution_count": 1559,
   "id": "70fa2a65-4133-4901-98f6-a69e2f119dcd",
   "metadata": {
    "scrolled": true
   },
   "outputs": [
    {
     "data": {
      "text/html": [
       "<div>\n",
       "<style scoped>\n",
       "    .dataframe tbody tr th:only-of-type {\n",
       "        vertical-align: middle;\n",
       "    }\n",
       "\n",
       "    .dataframe tbody tr th {\n",
       "        vertical-align: top;\n",
       "    }\n",
       "\n",
       "    .dataframe thead th {\n",
       "        text-align: right;\n",
       "    }\n",
       "</style>\n",
       "<table border=\"1\" class=\"dataframe\">\n",
       "  <thead>\n",
       "    <tr style=\"text-align: right;\">\n",
       "      <th></th>\n",
       "      <th>dateTime</th>\n",
       "      <th>dateFull</th>\n",
       "      <th>year</th>\n",
       "      <th>quarter</th>\n",
       "      <th>month</th>\n",
       "      <th>monthName</th>\n",
       "      <th>week</th>\n",
       "      <th>weekday</th>\n",
       "      <th>weekdayName</th>\n",
       "      <th>time</th>\n",
       "      <th>hour</th>\n",
       "    </tr>\n",
       "  </thead>\n",
       "  <tbody>\n",
       "    <tr>\n",
       "      <th>0</th>\n",
       "      <td>2023-01-08 02:00:00</td>\n",
       "      <td>2023-01-08</td>\n",
       "      <td>2023</td>\n",
       "      <td>1</td>\n",
       "      <td>1</td>\n",
       "      <td>January</td>\n",
       "      <td>1</td>\n",
       "      <td>7</td>\n",
       "      <td>Sunday</td>\n",
       "      <td>02:00:00</td>\n",
       "      <td>2</td>\n",
       "    </tr>\n",
       "    <tr>\n",
       "      <th>1</th>\n",
       "      <td>2023-01-08 08:00:00</td>\n",
       "      <td>2023-01-08</td>\n",
       "      <td>2023</td>\n",
       "      <td>1</td>\n",
       "      <td>1</td>\n",
       "      <td>January</td>\n",
       "      <td>1</td>\n",
       "      <td>7</td>\n",
       "      <td>Sunday</td>\n",
       "      <td>08:00:00</td>\n",
       "      <td>8</td>\n",
       "    </tr>\n",
       "    <tr>\n",
       "      <th>2</th>\n",
       "      <td>2023-01-08 09:00:00</td>\n",
       "      <td>2023-01-08</td>\n",
       "      <td>2023</td>\n",
       "      <td>1</td>\n",
       "      <td>1</td>\n",
       "      <td>January</td>\n",
       "      <td>1</td>\n",
       "      <td>7</td>\n",
       "      <td>Sunday</td>\n",
       "      <td>09:00:00</td>\n",
       "      <td>9</td>\n",
       "    </tr>\n",
       "    <tr>\n",
       "      <th>3</th>\n",
       "      <td>2023-01-08 10:00:00</td>\n",
       "      <td>2023-01-08</td>\n",
       "      <td>2023</td>\n",
       "      <td>1</td>\n",
       "      <td>1</td>\n",
       "      <td>January</td>\n",
       "      <td>1</td>\n",
       "      <td>7</td>\n",
       "      <td>Sunday</td>\n",
       "      <td>10:00:00</td>\n",
       "      <td>10</td>\n",
       "    </tr>\n",
       "    <tr>\n",
       "      <th>4</th>\n",
       "      <td>2023-01-08 11:00:00</td>\n",
       "      <td>2023-01-08</td>\n",
       "      <td>2023</td>\n",
       "      <td>1</td>\n",
       "      <td>1</td>\n",
       "      <td>January</td>\n",
       "      <td>1</td>\n",
       "      <td>7</td>\n",
       "      <td>Sunday</td>\n",
       "      <td>11:00:00</td>\n",
       "      <td>11</td>\n",
       "    </tr>\n",
       "    <tr>\n",
       "      <th>5</th>\n",
       "      <td>2023-01-08 12:00:00</td>\n",
       "      <td>2023-01-08</td>\n",
       "      <td>2023</td>\n",
       "      <td>1</td>\n",
       "      <td>1</td>\n",
       "      <td>January</td>\n",
       "      <td>1</td>\n",
       "      <td>7</td>\n",
       "      <td>Sunday</td>\n",
       "      <td>12:00:00</td>\n",
       "      <td>12</td>\n",
       "    </tr>\n",
       "    <tr>\n",
       "      <th>6</th>\n",
       "      <td>2023-01-08 13:00:00</td>\n",
       "      <td>2023-01-08</td>\n",
       "      <td>2023</td>\n",
       "      <td>1</td>\n",
       "      <td>1</td>\n",
       "      <td>January</td>\n",
       "      <td>1</td>\n",
       "      <td>7</td>\n",
       "      <td>Sunday</td>\n",
       "      <td>13:00:00</td>\n",
       "      <td>13</td>\n",
       "    </tr>\n",
       "    <tr>\n",
       "      <th>7</th>\n",
       "      <td>2023-01-08 14:00:00</td>\n",
       "      <td>2023-01-08</td>\n",
       "      <td>2023</td>\n",
       "      <td>1</td>\n",
       "      <td>1</td>\n",
       "      <td>January</td>\n",
       "      <td>1</td>\n",
       "      <td>7</td>\n",
       "      <td>Sunday</td>\n",
       "      <td>14:00:00</td>\n",
       "      <td>14</td>\n",
       "    </tr>\n",
       "    <tr>\n",
       "      <th>8</th>\n",
       "      <td>2023-01-08 15:00:00</td>\n",
       "      <td>2023-01-08</td>\n",
       "      <td>2023</td>\n",
       "      <td>1</td>\n",
       "      <td>1</td>\n",
       "      <td>January</td>\n",
       "      <td>1</td>\n",
       "      <td>7</td>\n",
       "      <td>Sunday</td>\n",
       "      <td>15:00:00</td>\n",
       "      <td>15</td>\n",
       "    </tr>\n",
       "    <tr>\n",
       "      <th>9</th>\n",
       "      <td>2023-01-08 16:00:00</td>\n",
       "      <td>2023-01-08</td>\n",
       "      <td>2023</td>\n",
       "      <td>1</td>\n",
       "      <td>1</td>\n",
       "      <td>January</td>\n",
       "      <td>1</td>\n",
       "      <td>7</td>\n",
       "      <td>Sunday</td>\n",
       "      <td>16:00:00</td>\n",
       "      <td>16</td>\n",
       "    </tr>\n",
       "    <tr>\n",
       "      <th>10</th>\n",
       "      <td>2023-01-08 17:00:00</td>\n",
       "      <td>2023-01-08</td>\n",
       "      <td>2023</td>\n",
       "      <td>1</td>\n",
       "      <td>1</td>\n",
       "      <td>January</td>\n",
       "      <td>1</td>\n",
       "      <td>7</td>\n",
       "      <td>Sunday</td>\n",
       "      <td>17:00:00</td>\n",
       "      <td>17</td>\n",
       "    </tr>\n",
       "    <tr>\n",
       "      <th>11</th>\n",
       "      <td>2023-01-08 18:00:00</td>\n",
       "      <td>2023-01-08</td>\n",
       "      <td>2023</td>\n",
       "      <td>1</td>\n",
       "      <td>1</td>\n",
       "      <td>January</td>\n",
       "      <td>1</td>\n",
       "      <td>7</td>\n",
       "      <td>Sunday</td>\n",
       "      <td>18:00:00</td>\n",
       "      <td>18</td>\n",
       "    </tr>\n",
       "    <tr>\n",
       "      <th>12</th>\n",
       "      <td>2023-01-08 19:00:00</td>\n",
       "      <td>2023-01-08</td>\n",
       "      <td>2023</td>\n",
       "      <td>1</td>\n",
       "      <td>1</td>\n",
       "      <td>January</td>\n",
       "      <td>1</td>\n",
       "      <td>7</td>\n",
       "      <td>Sunday</td>\n",
       "      <td>19:00:00</td>\n",
       "      <td>19</td>\n",
       "    </tr>\n",
       "    <tr>\n",
       "      <th>13</th>\n",
       "      <td>2023-01-08 20:00:00</td>\n",
       "      <td>2023-01-08</td>\n",
       "      <td>2023</td>\n",
       "      <td>1</td>\n",
       "      <td>1</td>\n",
       "      <td>January</td>\n",
       "      <td>1</td>\n",
       "      <td>7</td>\n",
       "      <td>Sunday</td>\n",
       "      <td>20:00:00</td>\n",
       "      <td>20</td>\n",
       "    </tr>\n",
       "    <tr>\n",
       "      <th>14</th>\n",
       "      <td>2023-01-08 21:00:00</td>\n",
       "      <td>2023-01-08</td>\n",
       "      <td>2023</td>\n",
       "      <td>1</td>\n",
       "      <td>1</td>\n",
       "      <td>January</td>\n",
       "      <td>1</td>\n",
       "      <td>7</td>\n",
       "      <td>Sunday</td>\n",
       "      <td>21:00:00</td>\n",
       "      <td>21</td>\n",
       "    </tr>\n",
       "    <tr>\n",
       "      <th>15</th>\n",
       "      <td>2023-01-08 22:00:00</td>\n",
       "      <td>2023-01-08</td>\n",
       "      <td>2023</td>\n",
       "      <td>1</td>\n",
       "      <td>1</td>\n",
       "      <td>January</td>\n",
       "      <td>1</td>\n",
       "      <td>7</td>\n",
       "      <td>Sunday</td>\n",
       "      <td>22:00:00</td>\n",
       "      <td>22</td>\n",
       "    </tr>\n",
       "    <tr>\n",
       "      <th>16</th>\n",
       "      <td>2023-01-08 23:00:00</td>\n",
       "      <td>2023-01-08</td>\n",
       "      <td>2023</td>\n",
       "      <td>1</td>\n",
       "      <td>1</td>\n",
       "      <td>January</td>\n",
       "      <td>1</td>\n",
       "      <td>7</td>\n",
       "      <td>Sunday</td>\n",
       "      <td>23:00:00</td>\n",
       "      <td>23</td>\n",
       "    </tr>\n",
       "    <tr>\n",
       "      <th>17</th>\n",
       "      <td>2023-01-09 01:00:00</td>\n",
       "      <td>2023-01-09</td>\n",
       "      <td>2023</td>\n",
       "      <td>1</td>\n",
       "      <td>1</td>\n",
       "      <td>January</td>\n",
       "      <td>2</td>\n",
       "      <td>1</td>\n",
       "      <td>Monday</td>\n",
       "      <td>01:00:00</td>\n",
       "      <td>1</td>\n",
       "    </tr>\n",
       "    <tr>\n",
       "      <th>18</th>\n",
       "      <td>2023-01-09 03:00:00</td>\n",
       "      <td>2023-01-09</td>\n",
       "      <td>2023</td>\n",
       "      <td>1</td>\n",
       "      <td>1</td>\n",
       "      <td>January</td>\n",
       "      <td>2</td>\n",
       "      <td>1</td>\n",
       "      <td>Monday</td>\n",
       "      <td>03:00:00</td>\n",
       "      <td>3</td>\n",
       "    </tr>\n",
       "    <tr>\n",
       "      <th>19</th>\n",
       "      <td>2023-01-09 04:00:00</td>\n",
       "      <td>2023-01-09</td>\n",
       "      <td>2023</td>\n",
       "      <td>1</td>\n",
       "      <td>1</td>\n",
       "      <td>January</td>\n",
       "      <td>2</td>\n",
       "      <td>1</td>\n",
       "      <td>Monday</td>\n",
       "      <td>04:00:00</td>\n",
       "      <td>4</td>\n",
       "    </tr>\n",
       "    <tr>\n",
       "      <th>20</th>\n",
       "      <td>2023-01-09 07:00:00</td>\n",
       "      <td>2023-01-09</td>\n",
       "      <td>2023</td>\n",
       "      <td>1</td>\n",
       "      <td>1</td>\n",
       "      <td>January</td>\n",
       "      <td>2</td>\n",
       "      <td>1</td>\n",
       "      <td>Monday</td>\n",
       "      <td>07:00:00</td>\n",
       "      <td>7</td>\n",
       "    </tr>\n",
       "    <tr>\n",
       "      <th>21</th>\n",
       "      <td>2023-01-09 08:00:00</td>\n",
       "      <td>2023-01-09</td>\n",
       "      <td>2023</td>\n",
       "      <td>1</td>\n",
       "      <td>1</td>\n",
       "      <td>January</td>\n",
       "      <td>2</td>\n",
       "      <td>1</td>\n",
       "      <td>Monday</td>\n",
       "      <td>08:00:00</td>\n",
       "      <td>8</td>\n",
       "    </tr>\n",
       "    <tr>\n",
       "      <th>22</th>\n",
       "      <td>2023-01-09 09:00:00</td>\n",
       "      <td>2023-01-09</td>\n",
       "      <td>2023</td>\n",
       "      <td>1</td>\n",
       "      <td>1</td>\n",
       "      <td>January</td>\n",
       "      <td>2</td>\n",
       "      <td>1</td>\n",
       "      <td>Monday</td>\n",
       "      <td>09:00:00</td>\n",
       "      <td>9</td>\n",
       "    </tr>\n",
       "    <tr>\n",
       "      <th>23</th>\n",
       "      <td>2023-01-09 10:00:00</td>\n",
       "      <td>2023-01-09</td>\n",
       "      <td>2023</td>\n",
       "      <td>1</td>\n",
       "      <td>1</td>\n",
       "      <td>January</td>\n",
       "      <td>2</td>\n",
       "      <td>1</td>\n",
       "      <td>Monday</td>\n",
       "      <td>10:00:00</td>\n",
       "      <td>10</td>\n",
       "    </tr>\n",
       "    <tr>\n",
       "      <th>24</th>\n",
       "      <td>2023-01-09 11:00:00</td>\n",
       "      <td>2023-01-09</td>\n",
       "      <td>2023</td>\n",
       "      <td>1</td>\n",
       "      <td>1</td>\n",
       "      <td>January</td>\n",
       "      <td>2</td>\n",
       "      <td>1</td>\n",
       "      <td>Monday</td>\n",
       "      <td>11:00:00</td>\n",
       "      <td>11</td>\n",
       "    </tr>\n",
       "    <tr>\n",
       "      <th>25</th>\n",
       "      <td>2023-01-09 12:00:00</td>\n",
       "      <td>2023-01-09</td>\n",
       "      <td>2023</td>\n",
       "      <td>1</td>\n",
       "      <td>1</td>\n",
       "      <td>January</td>\n",
       "      <td>2</td>\n",
       "      <td>1</td>\n",
       "      <td>Monday</td>\n",
       "      <td>12:00:00</td>\n",
       "      <td>12</td>\n",
       "    </tr>\n",
       "    <tr>\n",
       "      <th>26</th>\n",
       "      <td>2023-01-09 13:00:00</td>\n",
       "      <td>2023-01-09</td>\n",
       "      <td>2023</td>\n",
       "      <td>1</td>\n",
       "      <td>1</td>\n",
       "      <td>January</td>\n",
       "      <td>2</td>\n",
       "      <td>1</td>\n",
       "      <td>Monday</td>\n",
       "      <td>13:00:00</td>\n",
       "      <td>13</td>\n",
       "    </tr>\n",
       "    <tr>\n",
       "      <th>27</th>\n",
       "      <td>2023-01-09 14:00:00</td>\n",
       "      <td>2023-01-09</td>\n",
       "      <td>2023</td>\n",
       "      <td>1</td>\n",
       "      <td>1</td>\n",
       "      <td>January</td>\n",
       "      <td>2</td>\n",
       "      <td>1</td>\n",
       "      <td>Monday</td>\n",
       "      <td>14:00:00</td>\n",
       "      <td>14</td>\n",
       "    </tr>\n",
       "    <tr>\n",
       "      <th>28</th>\n",
       "      <td>2023-01-09 15:00:00</td>\n",
       "      <td>2023-01-09</td>\n",
       "      <td>2023</td>\n",
       "      <td>1</td>\n",
       "      <td>1</td>\n",
       "      <td>January</td>\n",
       "      <td>2</td>\n",
       "      <td>1</td>\n",
       "      <td>Monday</td>\n",
       "      <td>15:00:00</td>\n",
       "      <td>15</td>\n",
       "    </tr>\n",
       "    <tr>\n",
       "      <th>29</th>\n",
       "      <td>2023-01-09 16:00:00</td>\n",
       "      <td>2023-01-09</td>\n",
       "      <td>2023</td>\n",
       "      <td>1</td>\n",
       "      <td>1</td>\n",
       "      <td>January</td>\n",
       "      <td>2</td>\n",
       "      <td>1</td>\n",
       "      <td>Monday</td>\n",
       "      <td>16:00:00</td>\n",
       "      <td>16</td>\n",
       "    </tr>\n",
       "  </tbody>\n",
       "</table>\n",
       "</div>"
      ],
      "text/plain": [
       "              dateTime    dateFull  year  quarter  month monthName  week  \\\n",
       "0  2023-01-08 02:00:00  2023-01-08  2023        1      1   January     1   \n",
       "1  2023-01-08 08:00:00  2023-01-08  2023        1      1   January     1   \n",
       "2  2023-01-08 09:00:00  2023-01-08  2023        1      1   January     1   \n",
       "3  2023-01-08 10:00:00  2023-01-08  2023        1      1   January     1   \n",
       "4  2023-01-08 11:00:00  2023-01-08  2023        1      1   January     1   \n",
       "5  2023-01-08 12:00:00  2023-01-08  2023        1      1   January     1   \n",
       "6  2023-01-08 13:00:00  2023-01-08  2023        1      1   January     1   \n",
       "7  2023-01-08 14:00:00  2023-01-08  2023        1      1   January     1   \n",
       "8  2023-01-08 15:00:00  2023-01-08  2023        1      1   January     1   \n",
       "9  2023-01-08 16:00:00  2023-01-08  2023        1      1   January     1   \n",
       "10 2023-01-08 17:00:00  2023-01-08  2023        1      1   January     1   \n",
       "11 2023-01-08 18:00:00  2023-01-08  2023        1      1   January     1   \n",
       "12 2023-01-08 19:00:00  2023-01-08  2023        1      1   January     1   \n",
       "13 2023-01-08 20:00:00  2023-01-08  2023        1      1   January     1   \n",
       "14 2023-01-08 21:00:00  2023-01-08  2023        1      1   January     1   \n",
       "15 2023-01-08 22:00:00  2023-01-08  2023        1      1   January     1   \n",
       "16 2023-01-08 23:00:00  2023-01-08  2023        1      1   January     1   \n",
       "17 2023-01-09 01:00:00  2023-01-09  2023        1      1   January     2   \n",
       "18 2023-01-09 03:00:00  2023-01-09  2023        1      1   January     2   \n",
       "19 2023-01-09 04:00:00  2023-01-09  2023        1      1   January     2   \n",
       "20 2023-01-09 07:00:00  2023-01-09  2023        1      1   January     2   \n",
       "21 2023-01-09 08:00:00  2023-01-09  2023        1      1   January     2   \n",
       "22 2023-01-09 09:00:00  2023-01-09  2023        1      1   January     2   \n",
       "23 2023-01-09 10:00:00  2023-01-09  2023        1      1   January     2   \n",
       "24 2023-01-09 11:00:00  2023-01-09  2023        1      1   January     2   \n",
       "25 2023-01-09 12:00:00  2023-01-09  2023        1      1   January     2   \n",
       "26 2023-01-09 13:00:00  2023-01-09  2023        1      1   January     2   \n",
       "27 2023-01-09 14:00:00  2023-01-09  2023        1      1   January     2   \n",
       "28 2023-01-09 15:00:00  2023-01-09  2023        1      1   January     2   \n",
       "29 2023-01-09 16:00:00  2023-01-09  2023        1      1   January     2   \n",
       "\n",
       "    weekday weekdayName      time  hour  \n",
       "0         7      Sunday  02:00:00     2  \n",
       "1         7      Sunday  08:00:00     8  \n",
       "2         7      Sunday  09:00:00     9  \n",
       "3         7      Sunday  10:00:00    10  \n",
       "4         7      Sunday  11:00:00    11  \n",
       "5         7      Sunday  12:00:00    12  \n",
       "6         7      Sunday  13:00:00    13  \n",
       "7         7      Sunday  14:00:00    14  \n",
       "8         7      Sunday  15:00:00    15  \n",
       "9         7      Sunday  16:00:00    16  \n",
       "10        7      Sunday  17:00:00    17  \n",
       "11        7      Sunday  18:00:00    18  \n",
       "12        7      Sunday  19:00:00    19  \n",
       "13        7      Sunday  20:00:00    20  \n",
       "14        7      Sunday  21:00:00    21  \n",
       "15        7      Sunday  22:00:00    22  \n",
       "16        7      Sunday  23:00:00    23  \n",
       "17        1      Monday  01:00:00     1  \n",
       "18        1      Monday  03:00:00     3  \n",
       "19        1      Monday  04:00:00     4  \n",
       "20        1      Monday  07:00:00     7  \n",
       "21        1      Monday  08:00:00     8  \n",
       "22        1      Monday  09:00:00     9  \n",
       "23        1      Monday  10:00:00    10  \n",
       "24        1      Monday  11:00:00    11  \n",
       "25        1      Monday  12:00:00    12  \n",
       "26        1      Monday  13:00:00    13  \n",
       "27        1      Monday  14:00:00    14  \n",
       "28        1      Monday  15:00:00    15  \n",
       "29        1      Monday  16:00:00    16  "
      ]
     },
     "execution_count": 1559,
     "metadata": {},
     "output_type": "execute_result"
    }
   ],
   "source": [
    "df_dateHourTest.head(30)"
   ]
  },
  {
   "cell_type": "code",
   "execution_count": 1560,
   "id": "507ca0be-7cc0-4086-b229-6769809c3e14",
   "metadata": {},
   "outputs": [
    {
     "name": "stdout",
     "output_type": "stream",
     "text": [
      "output/csv/reference/geographyInfo.csv\n"
     ]
    }
   ],
   "source": [
    "csvFilePath = \"output/csv/reference/\"\n",
    "fileName = \"geographyInfo.csv\"\n",
    "appendDFToCSV(df_geoTest, csvFilePath, fileName, sep)"
   ]
  },
  {
   "cell_type": "code",
   "execution_count": 1561,
   "id": "bff329ff-c148-429f-82c4-bd127b8160ea",
   "metadata": {},
   "outputs": [
    {
     "name": "stdout",
     "output_type": "stream",
     "text": [
      "output/csv/reference/dateInfo.csv\n"
     ]
    }
   ],
   "source": [
    "csvFilePath = \"output/csv/reference/\"\n",
    "fileName = \"dateInfo.csv\"\n",
    "appendDFToCSV(df_dateHourTest, csvFilePath, fileName, sep)"
   ]
  },
  {
   "cell_type": "markdown",
   "id": "9e3b9cb3-24ba-4f89-aed4-70cce5bac3c2",
   "metadata": {},
   "source": [
    "## Table with all dates, not just those with fetched data, as reference"
   ]
  },
  {
   "cell_type": "code",
   "execution_count": 1562,
   "id": "2608ce82-5a88-4332-946a-ce67c405e640",
   "metadata": {},
   "outputs": [
    {
     "name": "stdout",
     "output_type": "stream",
     "text": [
      "DatetimeIndex(['2022-01-01 00:00:00', '2022-01-01 01:00:00',\n",
      "               '2022-01-01 02:00:00', '2022-01-01 03:00:00',\n",
      "               '2022-01-01 04:00:00', '2022-01-01 05:00:00',\n",
      "               '2022-01-01 06:00:00', '2022-01-01 07:00:00',\n",
      "               '2022-01-01 08:00:00', '2022-01-01 09:00:00',\n",
      "               ...\n",
      "               '2029-12-31 14:00:00', '2029-12-31 15:00:00',\n",
      "               '2029-12-31 16:00:00', '2029-12-31 17:00:00',\n",
      "               '2029-12-31 18:00:00', '2029-12-31 19:00:00',\n",
      "               '2029-12-31 20:00:00', '2029-12-31 21:00:00',\n",
      "               '2029-12-31 22:00:00', '2029-12-31 23:00:00'],\n",
      "              dtype='datetime64[ns]', length=70128, freq='H')\n"
     ]
    }
   ],
   "source": [
    "# Date range\n",
    "dates = pd.date_range('2022-01-01', '2030-01-01', freq=\"H\",inclusive='left')\n",
    "print(dates)"
   ]
  },
  {
   "cell_type": "code",
   "execution_count": 1563,
   "id": "d940a265-48ca-4723-b061-6de8edb14f41",
   "metadata": {},
   "outputs": [],
   "source": [
    "# List to Dataframe\n",
    "dateReference = pd.DataFrame(dates, columns=['dateHour'])"
   ]
  },
  {
   "cell_type": "code",
   "execution_count": 1564,
   "id": "68519051-5a02-4bdc-97d8-914c9c8e40c2",
   "metadata": {},
   "outputs": [],
   "source": [
    "# Running function sortOut_dateHour\n",
    "dateReference = dates_funcs.sortOut_dateHour(dateReference)"
   ]
  },
  {
   "cell_type": "code",
   "execution_count": 1565,
   "id": "2b0ba6a5-4c67-4e39-93eb-b8016b8edaa0",
   "metadata": {},
   "outputs": [],
   "source": [
    "csvFilePath = \"output/csv/reference/\"\n",
    "fileName = \"dateReference.csv\"\n",
    "fileNameFull = csvFilePath + fileName\n",
    "\n",
    "# If file does not alreay exist, write to file\n",
    "if not os.path.isfile(fileNameFull):\n",
    "    dateReference.to_csv(fileNameFull, mode='w', index=0, sep=sep)"
   ]
  },
  {
   "cell_type": "code",
   "execution_count": 1566,
   "id": "6baa466e-6cdb-41c0-bfd4-59c7a45d706f",
   "metadata": {},
   "outputs": [
    {
     "name": "stdout",
     "output_type": "stream",
     "text": [
      "FINISHED\n"
     ]
    }
   ],
   "source": [
    "print(\"FINISHED\")"
   ]
  },
  {
   "cell_type": "code",
   "execution_count": null,
   "id": "0d66467b-cbc9-4c92-8ae7-6b6e00237509",
   "metadata": {},
   "outputs": [],
   "source": []
  },
  {
   "cell_type": "code",
   "execution_count": null,
   "id": "6f79b460-4523-4bc2-bf5a-f70b0130a744",
   "metadata": {},
   "outputs": [],
   "source": []
  },
  {
   "cell_type": "code",
   "execution_count": null,
   "id": "6756b654-77ea-4ceb-b883-7b5f8cf39ff9",
   "metadata": {},
   "outputs": [],
   "source": []
  },
  {
   "cell_type": "code",
   "execution_count": null,
   "id": "21fb3036-58d9-4bc8-a85a-80d7fc46e63e",
   "metadata": {},
   "outputs": [],
   "source": []
  },
  {
   "cell_type": "code",
   "execution_count": null,
   "id": "505fb9db-5a4e-462b-ac96-5be5019a895e",
   "metadata": {},
   "outputs": [],
   "source": []
  },
  {
   "cell_type": "code",
   "execution_count": null,
   "id": "ac16d608-b865-436d-9214-cff1bb59a754",
   "metadata": {},
   "outputs": [],
   "source": []
  },
  {
   "cell_type": "code",
   "execution_count": null,
   "id": "41cac1f2-f643-40fe-974c-88c3d94ddbb3",
   "metadata": {},
   "outputs": [],
   "source": []
  },
  {
   "cell_type": "code",
   "execution_count": null,
   "id": "bf59cbab-3339-4c77-9a0d-81522472a257",
   "metadata": {},
   "outputs": [],
   "source": []
  },
  {
   "cell_type": "code",
   "execution_count": 1116,
   "id": "514dbdf0-7553-46b4-8293-0c4ce109bde2",
   "metadata": {},
   "outputs": [
    {
     "ename": "TypeError",
     "evalue": "NDFrame.to_excel() got an unexpected keyword argument 'mode'",
     "output_type": "error",
     "traceback": [
      "\u001b[0;31m---------------------------------------------------------------------------\u001b[0m",
      "\u001b[0;31mTypeError\u001b[0m                                 Traceback (most recent call last)",
      "Cell \u001b[0;32mIn[1116], line 7\u001b[0m\n\u001b[1;32m      4\u001b[0m fullFilenameWrite \u001b[38;5;241m=\u001b[39m csvFilePath \u001b[38;5;241m+\u001b[39m fileNameWrite\n\u001b[1;32m      6\u001b[0m read_file \u001b[38;5;241m=\u001b[39m pd\u001b[38;5;241m.\u001b[39mread_csv(fullFilenameRead)\n\u001b[0;32m----> 7\u001b[0m \u001b[43mread_file\u001b[49m\u001b[38;5;241;43m.\u001b[39;49m\u001b[43mto_excel\u001b[49m\u001b[43m \u001b[49m\u001b[43m(\u001b[49m\u001b[43mfullFilenameWrite\u001b[49m\u001b[43m,\u001b[49m\u001b[43m \u001b[49m\u001b[43mmode\u001b[49m\u001b[38;5;241;43m=\u001b[39;49m\u001b[38;5;124;43m'\u001b[39;49m\u001b[38;5;124;43ma\u001b[39;49m\u001b[38;5;124;43m'\u001b[39;49m\u001b[43m,\u001b[49m\u001b[43mindex\u001b[49m\u001b[43m \u001b[49m\u001b[38;5;241;43m=\u001b[39;49m\u001b[43m \u001b[49m\u001b[38;5;28;43;01mNone\u001b[39;49;00m\u001b[43m,\u001b[49m\u001b[43m \u001b[49m\u001b[43mheader\u001b[49m\u001b[38;5;241;43m=\u001b[39;49m\u001b[38;5;28;43;01mFalse\u001b[39;49;00m\u001b[43m)\u001b[49m\n",
      "\u001b[0;31mTypeError\u001b[0m: NDFrame.to_excel() got an unexpected keyword argument 'mode'"
     ]
    }
   ],
   "source": [
    "fileNameRead = \"geographyMaster.csv\"\n",
    "fileNameWrite = \"geographyMaster.xlsx\"\n",
    "fullFilenameRead = csvFilePath + fileNameRead\n",
    "fullFilenameWrite = csvFilePath + fileNameWrite\n",
    "\n",
    "read_file = pd.read_csv(fullFilenameRead)\n",
    "read_file.to_excel (fullFilenameWrite, index = None, header=True)"
   ]
  },
  {
   "cell_type": "code",
   "execution_count": 1113,
   "id": "01a64f55-cef9-42bb-a2b9-e137fdd7d842",
   "metadata": {},
   "outputs": [],
   "source": [
    "fileNameRead = \"dateInfoMaster.csv\"\n",
    "fileNameWrite = \"dateInfoMaster.xlsx\"\n",
    "fullFilenameRead = csvFilePath + fileNameRead\n",
    "fullFilenameWrite = csvFilePath + fileNameWrite\n",
    "\n",
    "read_file = pd.read_csv(fullFilenameRead)\n",
    "read_file.to_excel (fullFilenameWrite, index = None, header=True)"
   ]
  },
  {
   "cell_type": "code",
   "execution_count": 1114,
   "id": "31772c52-215a-43bb-b349-c9f7bddb5726",
   "metadata": {},
   "outputs": [],
   "source": [
    "fileNameRead = \"browser_dateHour_cityId.csv\"\n",
    "fileNameWrite = \"browser_dateHour_cityId.xlsx\"\n",
    "fullFilenameRead = csvFilePath + fileNameRead\n",
    "fullFilenameWrite = csvFilePath + fileNameWrite\n",
    "\n",
    "read_file = pd.read_csv(fullFilenameRead)\n",
    "read_file.to_excel (fullFilenameWrite, index = None, header=True)"
   ]
  },
  {
   "cell_type": "code",
   "execution_count": 1115,
   "id": "cc15b737-a4b6-4d07-a660-9dc1647e3966",
   "metadata": {},
   "outputs": [],
   "source": [
    "fileNameRead = \"mobileDeviceMarketingName_dateHour_cityId.csv\"\n",
    "fileNameWrite = \"mobileDeviceMarketingName_dateHour_cityId.xlsx\"\n",
    "fullFilenameRead = csvFilePath + fileNameRead\n",
    "fullFilenameWrite = csvFilePath + fileNameWrite\n",
    "\n",
    "read_file = pd.read_csv(fullFilenameRead)\n",
    "read_file.to_excel (fullFilenameWrite, index = None, header=True)"
   ]
  },
  {
   "cell_type": "code",
   "execution_count": 1137,
   "id": "626bbcfd-7c6b-4129-8eed-86815a19d675",
   "metadata": {},
   "outputs": [
    {
     "data": {
      "text/html": [
       "<div>\n",
       "<style scoped>\n",
       "    .dataframe tbody tr th:only-of-type {\n",
       "        vertical-align: middle;\n",
       "    }\n",
       "\n",
       "    .dataframe tbody tr th {\n",
       "        vertical-align: top;\n",
       "    }\n",
       "\n",
       "    .dataframe thead th {\n",
       "        text-align: right;\n",
       "    }\n",
       "</style>\n",
       "<table border=\"1\" class=\"dataframe\">\n",
       "  <thead>\n",
       "    <tr style=\"text-align: right;\">\n",
       "      <th></th>\n",
       "      <th>dateFull</th>\n",
       "      <th>time</th>\n",
       "      <th>cityId</th>\n",
       "      <th>mobileDeviceMarketingName</th>\n",
       "      <th>totalUsers</th>\n",
       "      <th>newUsers</th>\n",
       "      <th>activeUsers</th>\n",
       "      <th>userEngagementDuration</th>\n",
       "      <th>scrolledUsers</th>\n",
       "      <th>averageSessionDuration</th>\n",
       "      <th>...</th>\n",
       "      <th>engagedSessions</th>\n",
       "      <th>engagementRate</th>\n",
       "      <th>sessions</th>\n",
       "      <th>sessionsPerUser</th>\n",
       "      <th>eventCount</th>\n",
       "      <th>eventCountPerUser</th>\n",
       "      <th>eventsPerSession</th>\n",
       "      <th>screenPageViews</th>\n",
       "      <th>screenPageViewsPerSession</th>\n",
       "      <th>screenPageViewsPerUser</th>\n",
       "    </tr>\n",
       "  </thead>\n",
       "  <tbody>\n",
       "    <tr>\n",
       "      <th>0</th>\n",
       "      <td>2023-01-08</td>\n",
       "      <td>02:00:00</td>\n",
       "      <td>1012296</td>\n",
       "      <td>NaN</td>\n",
       "      <td>1</td>\n",
       "      <td>0</td>\n",
       "      <td>0</td>\n",
       "      <td>0</td>\n",
       "      <td>0</td>\n",
       "      <td>0</td>\n",
       "      <td>...</td>\n",
       "      <td>0</td>\n",
       "      <td>0</td>\n",
       "      <td>1</td>\n",
       "      <td>0</td>\n",
       "      <td>2</td>\n",
       "      <td>0</td>\n",
       "      <td>2</td>\n",
       "      <td>1</td>\n",
       "      <td>1</td>\n",
       "      <td>0</td>\n",
       "    </tr>\n",
       "    <tr>\n",
       "      <th>1</th>\n",
       "      <td>2023-01-08</td>\n",
       "      <td>08:00:00</td>\n",
       "      <td>1012475</td>\n",
       "      <td>NaN</td>\n",
       "      <td>1</td>\n",
       "      <td>1</td>\n",
       "      <td>1</td>\n",
       "      <td>97</td>\n",
       "      <td>0</td>\n",
       "      <td>101.177543</td>\n",
       "      <td>...</td>\n",
       "      <td>1</td>\n",
       "      <td>1</td>\n",
       "      <td>1</td>\n",
       "      <td>1</td>\n",
       "      <td>6</td>\n",
       "      <td>6</td>\n",
       "      <td>6</td>\n",
       "      <td>2</td>\n",
       "      <td>2</td>\n",
       "      <td>2</td>\n",
       "    </tr>\n",
       "    <tr>\n",
       "      <th>2</th>\n",
       "      <td>2023-01-08</td>\n",
       "      <td>09:00:00</td>\n",
       "      <td>1012228</td>\n",
       "      <td>NaN</td>\n",
       "      <td>1</td>\n",
       "      <td>1</td>\n",
       "      <td>1</td>\n",
       "      <td>55</td>\n",
       "      <td>0</td>\n",
       "      <td>62.339947</td>\n",
       "      <td>...</td>\n",
       "      <td>1</td>\n",
       "      <td>1</td>\n",
       "      <td>1</td>\n",
       "      <td>1</td>\n",
       "      <td>8</td>\n",
       "      <td>8</td>\n",
       "      <td>8</td>\n",
       "      <td>3</td>\n",
       "      <td>3</td>\n",
       "      <td>3</td>\n",
       "    </tr>\n",
       "    <tr>\n",
       "      <th>3</th>\n",
       "      <td>2023-01-08</td>\n",
       "      <td>09:00:00</td>\n",
       "      <td>9067819</td>\n",
       "      <td>Galaxy S20+ 5G</td>\n",
       "      <td>1</td>\n",
       "      <td>1</td>\n",
       "      <td>1</td>\n",
       "      <td>110</td>\n",
       "      <td>0</td>\n",
       "      <td>110.709899</td>\n",
       "      <td>...</td>\n",
       "      <td>1</td>\n",
       "      <td>1</td>\n",
       "      <td>1</td>\n",
       "      <td>1</td>\n",
       "      <td>4</td>\n",
       "      <td>4</td>\n",
       "      <td>4</td>\n",
       "      <td>1</td>\n",
       "      <td>1</td>\n",
       "      <td>1</td>\n",
       "    </tr>\n",
       "    <tr>\n",
       "      <th>4</th>\n",
       "      <td>2023-01-08</td>\n",
       "      <td>10:00:00</td>\n",
       "      <td>1012228</td>\n",
       "      <td>Yoga Tab 3</td>\n",
       "      <td>1</td>\n",
       "      <td>1</td>\n",
       "      <td>1</td>\n",
       "      <td>0</td>\n",
       "      <td>0</td>\n",
       "      <td>0</td>\n",
       "      <td>...</td>\n",
       "      <td>0</td>\n",
       "      <td>0</td>\n",
       "      <td>1</td>\n",
       "      <td>1</td>\n",
       "      <td>3</td>\n",
       "      <td>3</td>\n",
       "      <td>3</td>\n",
       "      <td>1</td>\n",
       "      <td>1</td>\n",
       "      <td>1</td>\n",
       "    </tr>\n",
       "    <tr>\n",
       "      <th>...</th>\n",
       "      <td>...</td>\n",
       "      <td>...</td>\n",
       "      <td>...</td>\n",
       "      <td>...</td>\n",
       "      <td>...</td>\n",
       "      <td>...</td>\n",
       "      <td>...</td>\n",
       "      <td>...</td>\n",
       "      <td>...</td>\n",
       "      <td>...</td>\n",
       "      <td>...</td>\n",
       "      <td>...</td>\n",
       "      <td>...</td>\n",
       "      <td>...</td>\n",
       "      <td>...</td>\n",
       "      <td>...</td>\n",
       "      <td>...</td>\n",
       "      <td>...</td>\n",
       "      <td>...</td>\n",
       "      <td>...</td>\n",
       "      <td>...</td>\n",
       "    </tr>\n",
       "    <tr>\n",
       "      <th>528</th>\n",
       "      <td>2023-01-14</td>\n",
       "      <td>21:00:00</td>\n",
       "      <td>9040283</td>\n",
       "      <td>NaN</td>\n",
       "      <td>1</td>\n",
       "      <td>1</td>\n",
       "      <td>1</td>\n",
       "      <td>32</td>\n",
       "      <td>0</td>\n",
       "      <td>32.400064</td>\n",
       "      <td>...</td>\n",
       "      <td>1</td>\n",
       "      <td>1</td>\n",
       "      <td>1</td>\n",
       "      <td>1</td>\n",
       "      <td>4</td>\n",
       "      <td>4</td>\n",
       "      <td>4</td>\n",
       "      <td>1</td>\n",
       "      <td>1</td>\n",
       "      <td>1</td>\n",
       "    </tr>\n",
       "    <tr>\n",
       "      <th>529</th>\n",
       "      <td>2023-01-14</td>\n",
       "      <td>22:00:00</td>\n",
       "      <td>1012228</td>\n",
       "      <td>NaN</td>\n",
       "      <td>1</td>\n",
       "      <td>1</td>\n",
       "      <td>1</td>\n",
       "      <td>1</td>\n",
       "      <td>0</td>\n",
       "      <td>1.473718</td>\n",
       "      <td>...</td>\n",
       "      <td>0</td>\n",
       "      <td>0</td>\n",
       "      <td>1</td>\n",
       "      <td>1</td>\n",
       "      <td>4</td>\n",
       "      <td>4</td>\n",
       "      <td>4</td>\n",
       "      <td>1</td>\n",
       "      <td>1</td>\n",
       "      <td>1</td>\n",
       "    </tr>\n",
       "    <tr>\n",
       "      <th>530</th>\n",
       "      <td>2023-01-14</td>\n",
       "      <td>22:00:00</td>\n",
       "      <td>1012479</td>\n",
       "      <td>NaN</td>\n",
       "      <td>1</td>\n",
       "      <td>1</td>\n",
       "      <td>1</td>\n",
       "      <td>2</td>\n",
       "      <td>0</td>\n",
       "      <td>2.482812</td>\n",
       "      <td>...</td>\n",
       "      <td>0</td>\n",
       "      <td>0</td>\n",
       "      <td>1</td>\n",
       "      <td>1</td>\n",
       "      <td>4</td>\n",
       "      <td>4</td>\n",
       "      <td>4</td>\n",
       "      <td>1</td>\n",
       "      <td>1</td>\n",
       "      <td>1</td>\n",
       "    </tr>\n",
       "    <tr>\n",
       "      <th>531</th>\n",
       "      <td>2023-01-14</td>\n",
       "      <td>22:00:00</td>\n",
       "      <td>9067777</td>\n",
       "      <td>NaN</td>\n",
       "      <td>1</td>\n",
       "      <td>0</td>\n",
       "      <td>1</td>\n",
       "      <td>0</td>\n",
       "      <td>0</td>\n",
       "      <td>0</td>\n",
       "      <td>...</td>\n",
       "      <td>0</td>\n",
       "      <td>0</td>\n",
       "      <td>1</td>\n",
       "      <td>1</td>\n",
       "      <td>2</td>\n",
       "      <td>2</td>\n",
       "      <td>2</td>\n",
       "      <td>1</td>\n",
       "      <td>1</td>\n",
       "      <td>1</td>\n",
       "    </tr>\n",
       "    <tr>\n",
       "      <th>532</th>\n",
       "      <td>2023-01-14</td>\n",
       "      <td>23:00:00</td>\n",
       "      <td>1012204</td>\n",
       "      <td>Galaxy S21 Ultra 5G</td>\n",
       "      <td>1</td>\n",
       "      <td>1</td>\n",
       "      <td>1</td>\n",
       "      <td>131</td>\n",
       "      <td>0</td>\n",
       "      <td>135.997835</td>\n",
       "      <td>...</td>\n",
       "      <td>1</td>\n",
       "      <td>1</td>\n",
       "      <td>1</td>\n",
       "      <td>1</td>\n",
       "      <td>11</td>\n",
       "      <td>11</td>\n",
       "      <td>11</td>\n",
       "      <td>5</td>\n",
       "      <td>5</td>\n",
       "      <td>5</td>\n",
       "    </tr>\n",
       "  </tbody>\n",
       "</table>\n",
       "<p>533 rows × 21 columns</p>\n",
       "</div>"
      ],
      "text/plain": [
       "       dateFull      time   cityId mobileDeviceMarketingName totalUsers  \\\n",
       "0    2023-01-08  02:00:00  1012296                       NaN          1   \n",
       "1    2023-01-08  08:00:00  1012475                       NaN          1   \n",
       "2    2023-01-08  09:00:00  1012228                       NaN          1   \n",
       "3    2023-01-08  09:00:00  9067819            Galaxy S20+ 5G          1   \n",
       "4    2023-01-08  10:00:00  1012228                Yoga Tab 3          1   \n",
       "..          ...       ...      ...                       ...        ...   \n",
       "528  2023-01-14  21:00:00  9040283                       NaN          1   \n",
       "529  2023-01-14  22:00:00  1012228                       NaN          1   \n",
       "530  2023-01-14  22:00:00  1012479                       NaN          1   \n",
       "531  2023-01-14  22:00:00  9067777                       NaN          1   \n",
       "532  2023-01-14  23:00:00  1012204       Galaxy S21 Ultra 5G          1   \n",
       "\n",
       "    newUsers activeUsers userEngagementDuration scrolledUsers  \\\n",
       "0          0           0                      0             0   \n",
       "1          1           1                     97             0   \n",
       "2          1           1                     55             0   \n",
       "3          1           1                    110             0   \n",
       "4          1           1                      0             0   \n",
       "..       ...         ...                    ...           ...   \n",
       "528        1           1                     32             0   \n",
       "529        1           1                      1             0   \n",
       "530        1           1                      2             0   \n",
       "531        0           1                      0             0   \n",
       "532        1           1                    131             0   \n",
       "\n",
       "    averageSessionDuration  ... engagedSessions engagementRate sessions  \\\n",
       "0                        0  ...               0              0        1   \n",
       "1               101.177543  ...               1              1        1   \n",
       "2                62.339947  ...               1              1        1   \n",
       "3               110.709899  ...               1              1        1   \n",
       "4                        0  ...               0              0        1   \n",
       "..                     ...  ...             ...            ...      ...   \n",
       "528              32.400064  ...               1              1        1   \n",
       "529               1.473718  ...               0              0        1   \n",
       "530               2.482812  ...               0              0        1   \n",
       "531                      0  ...               0              0        1   \n",
       "532             135.997835  ...               1              1        1   \n",
       "\n",
       "    sessionsPerUser eventCount eventCountPerUser eventsPerSession  \\\n",
       "0                 0          2                 0                2   \n",
       "1                 1          6                 6                6   \n",
       "2                 1          8                 8                8   \n",
       "3                 1          4                 4                4   \n",
       "4                 1          3                 3                3   \n",
       "..              ...        ...               ...              ...   \n",
       "528               1          4                 4                4   \n",
       "529               1          4                 4                4   \n",
       "530               1          4                 4                4   \n",
       "531               1          2                 2                2   \n",
       "532               1         11                11               11   \n",
       "\n",
       "    screenPageViews screenPageViewsPerSession screenPageViewsPerUser  \n",
       "0                 1                         1                      0  \n",
       "1                 2                         2                      2  \n",
       "2                 3                         3                      3  \n",
       "3                 1                         1                      1  \n",
       "4                 1                         1                      1  \n",
       "..              ...                       ...                    ...  \n",
       "528               1                         1                      1  \n",
       "529               1                         1                      1  \n",
       "530               1                         1                      1  \n",
       "531               1                         1                      1  \n",
       "532               5                         5                      5  \n",
       "\n",
       "[533 rows x 21 columns]"
      ]
     },
     "execution_count": 1137,
     "metadata": {},
     "output_type": "execute_result"
    }
   ],
   "source": [
    "dfs_merged_fillNA[5]"
   ]
  },
  {
   "cell_type": "code",
   "execution_count": 1165,
   "id": "8a872f09-2fb5-4578-b57e-2e88e6002cbb",
   "metadata": {},
   "outputs": [
    {
     "name": "stdout",
     "output_type": "stream",
     "text": [
      "Original_dtypes:\n",
      "dateFull                      object\n",
      "time                          object\n",
      "cityId                        object\n",
      "mobileDeviceMarketingName     object\n",
      "totalUsers                     int64\n",
      "newUsers                       int64\n",
      "activeUsers                    int64\n",
      "userEngagementDuration         int64\n",
      "scrolledUsers                  int64\n",
      "averageSessionDuration       float64\n",
      "bounceRate                   float64\n",
      "engagedSessions                int64\n",
      "engagementRate               float64\n",
      "sessions                       int64\n",
      "sessionsPerUser              float64\n",
      "eventCount                     int64\n",
      "eventCountPerUser            float64\n",
      "eventsPerSession             float64\n",
      "screenPageViews                int64\n",
      "screenPageViewsPerSession    float64\n",
      "screenPageViewsPerUser       float64\n",
      "dtype: object\n",
      "New_dtypes:\n",
      "dateFull                      object\n",
      "time                          object\n",
      "cityId                        object\n",
      "mobileDeviceMarketingName     object\n",
      "totalUsers                     int64\n",
      "newUsers                       int64\n",
      "activeUsers                    int64\n",
      "userEngagementDuration         int64\n",
      "scrolledUsers                  int64\n",
      "averageSessionDuration       float64\n",
      "bounceRate                   float64\n",
      "engagedSessions                int64\n",
      "engagementRate               float64\n",
      "sessions                       int64\n",
      "sessionsPerUser              float64\n",
      "eventCount                     int64\n",
      "eventCountPerUser            float64\n",
      "eventsPerSession             float64\n",
      "screenPageViews                int64\n",
      "screenPageViewsPerSession    float64\n",
      "screenPageViewsPerUser       float64\n",
      "dtype: object\n"
     ]
    }
   ],
   "source": [
    "df = dfs_merged_fillNA[5]\n",
    "\n",
    "print(\"Original_dtypes:\")\n",
    "print(df.dtypes)\n",
    " \n",
    "df[df.columns[4:]] = df.iloc[:,4:].apply(pd.to_numeric)\n",
    " \n",
    "print(\"New_dtypes:\")\n",
    "print(df.dtypes)"
   ]
  },
  {
   "cell_type": "code",
   "execution_count": 1168,
   "id": "70e5bb71-95e6-4d97-90af-0eb20ed10f85",
   "metadata": {},
   "outputs": [
    {
     "ename": "TypeError",
     "evalue": "NDFrame.to_excel() got an unexpected keyword argument 'date_format'",
     "output_type": "error",
     "traceback": [
      "\u001b[0;31m---------------------------------------------------------------------------\u001b[0m",
      "\u001b[0;31mTypeError\u001b[0m                                 Traceback (most recent call last)",
      "Cell \u001b[0;32mIn[1168], line 1\u001b[0m\n\u001b[0;32m----> 1\u001b[0m \u001b[43mdf\u001b[49m\u001b[38;5;241;43m.\u001b[39;49m\u001b[43mto_excel\u001b[49m\u001b[43m(\u001b[49m\u001b[38;5;124;43m\"\u001b[39;49m\u001b[38;5;124;43moutput.xlsx\u001b[39;49m\u001b[38;5;124;43m\"\u001b[39;49m\u001b[43m,\u001b[49m\u001b[43mindex\u001b[49m\u001b[38;5;241;43m=\u001b[39;49m\u001b[38;5;28;43;01mFalse\u001b[39;49;00m\u001b[43m,\u001b[49m\u001b[43m \u001b[49m\u001b[43mdate_format\u001b[49m\u001b[38;5;241;43m=\u001b[39;49m\u001b[38;5;124;43m\"\u001b[39;49m\u001b[38;5;124;43myyyy-mm-dddd\u001b[39;49m\u001b[38;5;124;43m\"\u001b[39;49m\u001b[43m)\u001b[49m\n",
      "\u001b[0;31mTypeError\u001b[0m: NDFrame.to_excel() got an unexpected keyword argument 'date_format'"
     ]
    }
   ],
   "source": [
    "df.to_excel(\"output.xlsx\",index=False, date_format=\"yyyy-mm-dddd\")"
   ]
  },
  {
   "cell_type": "code",
   "execution_count": 1167,
   "id": "9782081b-4de3-455d-839e-d90795a83e03",
   "metadata": {},
   "outputs": [],
   "source": [
    "\n",
    "\n",
    "# read the demo2.xlsx file\n",
    "#df=pd.read_excel(fullFilenameWrite, engine='openpyxl')\n",
    "\n",
    "# appending the data of df after the data of demo1.xlsx\n",
    "with pd.ExcelWriter(\"output.xlsx\",mode=\"a\",engine=\"openpyxl\",if_sheet_exists=\"overlay\") as writer:\n",
    "    df.to_excel(writer, sheet_name=\"Sheet1\",header=None, startrow=writer.sheets[\"Sheet1\"].max_row,index=False)"
   ]
  },
  {
   "cell_type": "code",
   "execution_count": null,
   "id": "9fde6867-bb8f-4ef7-9e29-ea5a0f698d95",
   "metadata": {},
   "outputs": [],
   "source": []
  }
 ],
 "metadata": {
  "kernelspec": {
   "display_name": "Python 3 (ipykernel)",
   "language": "python",
   "name": "python3"
  },
  "language_info": {
   "codemirror_mode": {
    "name": "ipython",
    "version": 3
   },
   "file_extension": ".py",
   "mimetype": "text/x-python",
   "name": "python",
   "nbconvert_exporter": "python",
   "pygments_lexer": "ipython3",
   "version": "3.11.3"
  }
 },
 "nbformat": 4,
 "nbformat_minor": 5
}
